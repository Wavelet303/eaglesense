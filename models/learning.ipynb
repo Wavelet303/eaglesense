{
 "cells": [
  {
   "cell_type": "code",
   "execution_count": 103,
   "metadata": {
    "collapsed": false
   },
   "outputs": [],
   "source": [
    "import xgboost as xgb\n",
    "from sklearn import metrics\n",
    "\n",
    "import numpy as np\n",
    "import pandas as pd\n",
    "import os\n",
    "import pickle\n",
    "import itertools"
   ]
  },
  {
   "cell_type": "markdown",
   "metadata": {},
   "source": [
    "# PATHS"
   ]
  },
  {
   "cell_type": "code",
   "execution_count": 3,
   "metadata": {
    "collapsed": true
   },
   "outputs": [],
   "source": [
    "DATA_DIRECTORY = \"../data/topviewkinect/\"\n",
    "\n",
    "PREPROCESSED_DIRECTORY = DATA_DIRECTORY + \"all/\"\n",
    "\n",
    "DATA_ALL = \"all\""
   ]
  },
  {
   "cell_type": "markdown",
   "metadata": {},
   "source": [
    "# PREPROCESSING"
   ]
  },
  {
   "cell_type": "markdown",
   "metadata": {},
   "source": [
    "### Sanity check"
   ]
  },
  {
   "cell_type": "code",
   "execution_count": 29,
   "metadata": {
    "collapsed": false
   },
   "outputs": [
    {
     "name": "stdout",
     "output_type": "stream",
     "text": [
      "Done!\n"
     ]
    }
   ],
   "source": [
    "for dataset_id in next(os.walk(DATA_DIRECTORY))[1]:\n",
    "    if not dataset_id.isdigit():\n",
    "        continue\n",
    "\n",
    "    features_csv = \"{data_dir}/{dataset_id}/features.csv\".format(data_dir=DATA_DIRECTORY, dataset_id=dataset_id)\n",
    "    features_df = pd.read_csv(features_csv)\n",
    "    labels_csv = \"{data_dir}/{dataset_id}/labels.csv\".format(data_dir=DATA_DIRECTORY, dataset_id=dataset_id)\n",
    "    labels_df = pd.read_csv(labels_csv)\n",
    "    \n",
    "    if -1 in labels_df[\"activity\"].values:\n",
    "        print(dataset_id, \"missing labels\")\n",
    "    \n",
    "    if 1 in labels_df[\"skeleton_id\"].values:\n",
    "        print(dataset_id, \"multiple people labels\")\n",
    "\n",
    "    if 1 in features_df[\"skeleton_id\"].values:\n",
    "        print(dataset_id, \"multiple people features\")\n",
    "\n",
    "print(\"Done!\")"
   ]
  },
  {
   "cell_type": "markdown",
   "metadata": {},
   "source": [
    "### All features and labels"
   ]
  },
  {
   "cell_type": "code",
   "execution_count": 5,
   "metadata": {
    "collapsed": true
   },
   "outputs": [],
   "source": [
    "ignored_features_cols = [\"frame_id\", \"skeleton_id\", \"x\", \"y\", \"z\"]\n",
    "ignored_labels_cols = [\"frame_id\", \"skeleton_id\"]\n",
    "all_features_csv = \"{data_dir}/{data}_features.csv\".format(data_dir=PREPROCESSED_DIRECTORY, data=DATA_ALL)\n",
    "all_labels_csv = \"{data_dir}/{data}_labels.csv\".format(data_dir=PREPROCESSED_DIRECTORY, data=DATA_ALL)"
   ]
  },
  {
   "cell_type": "code",
   "execution_count": 28,
   "metadata": {
    "collapsed": false
   },
   "outputs": [
    {
     "name": "stdout",
     "output_type": "stream",
     "text": [
      "1 , 10 , 11 , 12 , 2 , 3 , 4 , 5 , 6 , 7 , 8 , 9 , \n",
      "Done!\n"
     ]
    }
   ],
   "source": [
    "# Overwrite previous data files\n",
    "open(all_features_csv, \"w\").close()\n",
    "open(all_labels_csv, \"w\").close()\n",
    "\n",
    "# Open data files\n",
    "all_features_f = open(all_features_csv, \"a\")\n",
    "all_labels_f = open(all_labels_csv, \"a\")\n",
    "header=True\n",
    "\n",
    "for dataset_id in next(os.walk(DATA_DIRECTORY))[1]:\n",
    "    if not dataset_id.isdigit():\n",
    "        continue\n",
    "    else:\n",
    "        print(dataset_id, \", \", end=\"\")\n",
    "\n",
    "    features_csv = \"{data_dir}/{dataset_id}/features.csv\".format(data_dir=DATA_DIRECTORY, dataset_id=dataset_id)\n",
    "    features_df = pd.read_csv(features_csv, low_memory=False)\n",
    "    labels_csv = \"{data_dir}/{dataset_id}/labels.csv\".format(data_dir=DATA_DIRECTORY, dataset_id=dataset_id)\n",
    "    labels_df = pd.read_csv(labels_csv)\n",
    "\n",
    "    # Keep only tracking skeletons\n",
    "    labels_df = labels_df.loc[labels_df[\"skeleton_id\"] == 0]\n",
    "    labels_df = labels_df.loc[labels_df[\"activity\"] != 6]\n",
    "    frame_indices = labels_df[\"frame_id\"].values\n",
    "    \n",
    "    features_df = features_df.loc[features_df[\"frame_id\"].isin(frame_indices)]\n",
    "    labels_df = labels_df.loc[labels_df[\"frame_id\"].isin(features_df[\"frame_id\"].values)]\n",
    "    \n",
    "    # Append features and labels\n",
    "    features_df = features_df.drop(labels=ignored_features_cols, axis=1)\n",
    "    features_df[\"subject\"] = int(dataset_id)\n",
    "    features_df = features_df.astype(np.float32)\n",
    "    features_df.to_csv(all_features_f, header=header, index=False)\n",
    "    \n",
    "    labels_df = labels_df.drop(labels=ignored_labels_cols, axis=1)\n",
    "    labels_df[\"subject\"] = int(dataset_id)\n",
    "    labels_df = labels_df.astype(np.int)\n",
    "    labels_df.to_csv(all_labels_f, header=header, index=False)\n",
    "    \n",
    "    header = False\n",
    "    \n",
    "all_features_f.close()\n",
    "all_labels_f.close()\n",
    "\n",
    "print(\"\\nDone!\")"
   ]
  },
  {
   "cell_type": "markdown",
   "metadata": {},
   "source": [
    "### Data overview"
   ]
  },
  {
   "cell_type": "code",
   "execution_count": 6,
   "metadata": {
    "collapsed": false
   },
   "outputs": [],
   "source": [
    "all_features_df = pd.read_csv(all_features_csv)\n",
    "all_labels_df = pd.read_csv(all_labels_csv)"
   ]
  },
  {
   "cell_type": "code",
   "execution_count": 7,
   "metadata": {
    "collapsed": false,
    "scrolled": true
   },
   "outputs": [
    {
     "data": {
      "text/plain": [
       "(77024, 73)"
      ]
     },
     "execution_count": 7,
     "metadata": {},
     "output_type": "execute_result"
    }
   ],
   "source": [
    "all_features_df.shape"
   ]
  },
  {
   "cell_type": "code",
   "execution_count": 8,
   "metadata": {
    "collapsed": false
   },
   "outputs": [
    {
     "data": {
      "text/html": [
       "<div>\n",
       "<table border=\"1\" class=\"dataframe\">\n",
       "  <thead>\n",
       "    <tr style=\"text-align: right;\">\n",
       "      <th></th>\n",
       "      <th>layer_area_0</th>\n",
       "      <th>layer_area_1</th>\n",
       "      <th>layer_area_2</th>\n",
       "      <th>layer_contours_0</th>\n",
       "      <th>layer_contours_1</th>\n",
       "      <th>layer_distance_0</th>\n",
       "      <th>layer_distance_1</th>\n",
       "      <th>layer_distance_2</th>\n",
       "      <th>layer_distance_3</th>\n",
       "      <th>layer_distance_4</th>\n",
       "      <th>...</th>\n",
       "      <th>interlayer_pos_16</th>\n",
       "      <th>interlayer_pos_17</th>\n",
       "      <th>extremities0</th>\n",
       "      <th>extreme_infrared_0</th>\n",
       "      <th>extreme_infrared_1</th>\n",
       "      <th>extreme_infrared_2</th>\n",
       "      <th>extreme_infrared_3</th>\n",
       "      <th>extreme_infrared_4</th>\n",
       "      <th>extreme_infrared_5</th>\n",
       "      <th>subject</th>\n",
       "    </tr>\n",
       "  </thead>\n",
       "  <tbody>\n",
       "    <tr>\n",
       "      <th>0</th>\n",
       "      <td>0.297578</td>\n",
       "      <td>0.411765</td>\n",
       "      <td>0.290657</td>\n",
       "      <td>3.0</td>\n",
       "      <td>3.0</td>\n",
       "      <td>16.552900</td>\n",
       "      <td>26.683300</td>\n",
       "      <td>26.019199</td>\n",
       "      <td>26.683300</td>\n",
       "      <td>201.0</td>\n",
       "      <td>...</td>\n",
       "      <td>-26.0</td>\n",
       "      <td>-107.0</td>\n",
       "      <td>4.0</td>\n",
       "      <td>0.0</td>\n",
       "      <td>10.0</td>\n",
       "      <td>11.5</td>\n",
       "      <td>11.5</td>\n",
       "      <td>0.0</td>\n",
       "      <td>11.5</td>\n",
       "      <td>1.0</td>\n",
       "    </tr>\n",
       "    <tr>\n",
       "      <th>1</th>\n",
       "      <td>0.310345</td>\n",
       "      <td>0.419238</td>\n",
       "      <td>0.270417</td>\n",
       "      <td>3.0</td>\n",
       "      <td>3.0</td>\n",
       "      <td>16.401199</td>\n",
       "      <td>26.476400</td>\n",
       "      <td>26.019199</td>\n",
       "      <td>26.476400</td>\n",
       "      <td>191.5</td>\n",
       "      <td>...</td>\n",
       "      <td>-26.0</td>\n",
       "      <td>-105.0</td>\n",
       "      <td>5.0</td>\n",
       "      <td>0.5</td>\n",
       "      <td>9.0</td>\n",
       "      <td>11.0</td>\n",
       "      <td>1.0</td>\n",
       "      <td>0.5</td>\n",
       "      <td>11.0</td>\n",
       "      <td>1.0</td>\n",
       "    </tr>\n",
       "    <tr>\n",
       "      <th>2</th>\n",
       "      <td>0.318015</td>\n",
       "      <td>0.386029</td>\n",
       "      <td>0.295956</td>\n",
       "      <td>3.0</td>\n",
       "      <td>3.0</td>\n",
       "      <td>16.124500</td>\n",
       "      <td>26.248800</td>\n",
       "      <td>27.018499</td>\n",
       "      <td>26.248800</td>\n",
       "      <td>174.5</td>\n",
       "      <td>...</td>\n",
       "      <td>-26.0</td>\n",
       "      <td>-104.0</td>\n",
       "      <td>5.0</td>\n",
       "      <td>0.0</td>\n",
       "      <td>12.5</td>\n",
       "      <td>4.5</td>\n",
       "      <td>4.5</td>\n",
       "      <td>0.5</td>\n",
       "      <td>13.0</td>\n",
       "      <td>1.0</td>\n",
       "    </tr>\n",
       "    <tr>\n",
       "      <th>3</th>\n",
       "      <td>0.348399</td>\n",
       "      <td>0.384181</td>\n",
       "      <td>0.267420</td>\n",
       "      <td>3.0</td>\n",
       "      <td>3.0</td>\n",
       "      <td>16.401199</td>\n",
       "      <td>26.419701</td>\n",
       "      <td>26.476400</td>\n",
       "      <td>26.419701</td>\n",
       "      <td>164.0</td>\n",
       "      <td>...</td>\n",
       "      <td>-25.0</td>\n",
       "      <td>-103.0</td>\n",
       "      <td>5.0</td>\n",
       "      <td>0.0</td>\n",
       "      <td>6.0</td>\n",
       "      <td>4.5</td>\n",
       "      <td>0.0</td>\n",
       "      <td>0.0</td>\n",
       "      <td>7.0</td>\n",
       "      <td>1.0</td>\n",
       "    </tr>\n",
       "    <tr>\n",
       "      <th>4</th>\n",
       "      <td>0.356383</td>\n",
       "      <td>0.370567</td>\n",
       "      <td>0.273050</td>\n",
       "      <td>3.0</td>\n",
       "      <td>3.0</td>\n",
       "      <td>17.719999</td>\n",
       "      <td>27.459101</td>\n",
       "      <td>27.459101</td>\n",
       "      <td>27.459101</td>\n",
       "      <td>164.5</td>\n",
       "      <td>...</td>\n",
       "      <td>-26.0</td>\n",
       "      <td>-107.0</td>\n",
       "      <td>3.0</td>\n",
       "      <td>0.0</td>\n",
       "      <td>0.0</td>\n",
       "      <td>0.5</td>\n",
       "      <td>0.0</td>\n",
       "      <td>0.0</td>\n",
       "      <td>0.5</td>\n",
       "      <td>1.0</td>\n",
       "    </tr>\n",
       "  </tbody>\n",
       "</table>\n",
       "<p>5 rows × 73 columns</p>\n",
       "</div>"
      ],
      "text/plain": [
       "   layer_area_0  layer_area_1  layer_area_2  layer_contours_0  \\\n",
       "0      0.297578      0.411765      0.290657               3.0   \n",
       "1      0.310345      0.419238      0.270417               3.0   \n",
       "2      0.318015      0.386029      0.295956               3.0   \n",
       "3      0.348399      0.384181      0.267420               3.0   \n",
       "4      0.356383      0.370567      0.273050               3.0   \n",
       "\n",
       "   layer_contours_1  layer_distance_0  layer_distance_1  layer_distance_2  \\\n",
       "0               3.0         16.552900         26.683300         26.019199   \n",
       "1               3.0         16.401199         26.476400         26.019199   \n",
       "2               3.0         16.124500         26.248800         27.018499   \n",
       "3               3.0         16.401199         26.419701         26.476400   \n",
       "4               3.0         17.719999         27.459101         27.459101   \n",
       "\n",
       "   layer_distance_3  layer_distance_4   ...     interlayer_pos_16  \\\n",
       "0         26.683300             201.0   ...                 -26.0   \n",
       "1         26.476400             191.5   ...                 -26.0   \n",
       "2         26.248800             174.5   ...                 -26.0   \n",
       "3         26.419701             164.0   ...                 -25.0   \n",
       "4         27.459101             164.5   ...                 -26.0   \n",
       "\n",
       "   interlayer_pos_17  extremities0  extreme_infrared_0  extreme_infrared_1  \\\n",
       "0             -107.0           4.0                 0.0                10.0   \n",
       "1             -105.0           5.0                 0.5                 9.0   \n",
       "2             -104.0           5.0                 0.0                12.5   \n",
       "3             -103.0           5.0                 0.0                 6.0   \n",
       "4             -107.0           3.0                 0.0                 0.0   \n",
       "\n",
       "   extreme_infrared_2  extreme_infrared_3  extreme_infrared_4  \\\n",
       "0                11.5                11.5                 0.0   \n",
       "1                11.0                 1.0                 0.5   \n",
       "2                 4.5                 4.5                 0.5   \n",
       "3                 4.5                 0.0                 0.0   \n",
       "4                 0.5                 0.0                 0.0   \n",
       "\n",
       "   extreme_infrared_5  subject  \n",
       "0                11.5      1.0  \n",
       "1                11.0      1.0  \n",
       "2                13.0      1.0  \n",
       "3                 7.0      1.0  \n",
       "4                 0.5      1.0  \n",
       "\n",
       "[5 rows x 73 columns]"
      ]
     },
     "execution_count": 8,
     "metadata": {},
     "output_type": "execute_result"
    }
   ],
   "source": [
    "all_features_df.head()"
   ]
  },
  {
   "cell_type": "code",
   "execution_count": 9,
   "metadata": {
    "collapsed": false
   },
   "outputs": [
    {
     "data": {
      "text/plain": [
       "(77024, 4)"
      ]
     },
     "execution_count": 9,
     "metadata": {},
     "output_type": "execute_result"
    }
   ],
   "source": [
    "all_labels_df.shape"
   ]
  },
  {
   "cell_type": "code",
   "execution_count": 10,
   "metadata": {
    "collapsed": false
   },
   "outputs": [
    {
     "data": {
      "text/html": [
       "<div>\n",
       "<table border=\"1\" class=\"dataframe\">\n",
       "  <thead>\n",
       "    <tr style=\"text-align: right;\">\n",
       "      <th></th>\n",
       "      <th>activity</th>\n",
       "      <th>orientation</th>\n",
       "      <th>orientation_accurate</th>\n",
       "      <th>subject</th>\n",
       "    </tr>\n",
       "  </thead>\n",
       "  <tbody>\n",
       "    <tr>\n",
       "      <th>0</th>\n",
       "      <td>0</td>\n",
       "      <td>130</td>\n",
       "      <td>-1</td>\n",
       "      <td>1</td>\n",
       "    </tr>\n",
       "    <tr>\n",
       "      <th>1</th>\n",
       "      <td>0</td>\n",
       "      <td>130</td>\n",
       "      <td>-1</td>\n",
       "      <td>1</td>\n",
       "    </tr>\n",
       "    <tr>\n",
       "      <th>2</th>\n",
       "      <td>0</td>\n",
       "      <td>120</td>\n",
       "      <td>-1</td>\n",
       "      <td>1</td>\n",
       "    </tr>\n",
       "    <tr>\n",
       "      <th>3</th>\n",
       "      <td>0</td>\n",
       "      <td>130</td>\n",
       "      <td>-1</td>\n",
       "      <td>1</td>\n",
       "    </tr>\n",
       "    <tr>\n",
       "      <th>4</th>\n",
       "      <td>0</td>\n",
       "      <td>150</td>\n",
       "      <td>-1</td>\n",
       "      <td>1</td>\n",
       "    </tr>\n",
       "  </tbody>\n",
       "</table>\n",
       "</div>"
      ],
      "text/plain": [
       "   activity  orientation  orientation_accurate  subject\n",
       "0         0          130                    -1        1\n",
       "1         0          130                    -1        1\n",
       "2         0          120                    -1        1\n",
       "3         0          130                    -1        1\n",
       "4         0          150                    -1        1"
      ]
     },
     "execution_count": 10,
     "metadata": {},
     "output_type": "execute_result"
    }
   ],
   "source": [
    "all_labels_df.head()"
   ]
  },
  {
   "cell_type": "code",
   "execution_count": 11,
   "metadata": {
    "collapsed": false
   },
   "outputs": [
    {
     "data": {
      "text/plain": [
       "array([ 1,  2,  3,  4,  5,  6,  7,  8,  9, 10, 11, 12], dtype=int64)"
      ]
     },
     "execution_count": 11,
     "metadata": {},
     "output_type": "execute_result"
    }
   ],
   "source": [
    "subjects_list = np.unique(all_labels_df[\"subject\"])\n",
    "subjects_list"
   ]
  },
  {
   "cell_type": "code",
   "execution_count": 12,
   "metadata": {
    "collapsed": false
   },
   "outputs": [
    {
     "data": {
      "text/plain": [
       "array([0, 1, 2, 3, 4, 5], dtype=int64)"
      ]
     },
     "execution_count": 12,
     "metadata": {},
     "output_type": "execute_result"
    }
   ],
   "source": [
    "activities_list = np.unique(all_labels_df[\"activity\"])\n",
    "activities_list"
   ]
  },
  {
   "cell_type": "code",
   "execution_count": 94,
   "metadata": {
    "collapsed": true
   },
   "outputs": [],
   "source": [
    "X = all_features_df.drop([\"subject\"], axis=1)\n",
    "y = all_labels_df[[\"activity\"]]\n",
    "X_all = xgb.DMatrix(X, y)"
   ]
  },
  {
   "cell_type": "markdown",
   "metadata": {},
   "source": [
    "###  Data split"
   ]
  },
  {
   "cell_type": "markdown",
   "metadata": {},
   "source": [
    "#### Initial Cross-Subject Test (2-fold)"
   ]
  },
  {
   "cell_type": "code",
   "execution_count": 34,
   "metadata": {
    "collapsed": false
   },
   "outputs": [],
   "source": [
    "initial_cs_odd = [subject for subject in subjects_list if subject % 2 == 1]\n",
    "initial_cs_even = [subject for subject in subjects_list if subject % 2 == 0]\n",
    "initial_cs_split = [\n",
    "    {\"train\": initial_cs_odd, \"test\": initial_cs_even},\n",
    "    {\"train\": initial_cs_even, \"test\": initial_cs_odd}\n",
    "]"
   ]
  },
  {
   "cell_type": "code",
   "execution_count": 35,
   "metadata": {
    "collapsed": true
   },
   "outputs": [],
   "source": [
    "initial_cs_split_fn = \"{data_dir}/{data}_split_init_cs.pickle\".format(data_dir=PREPROCESSED_DIRECTORY, data=DATA_ALL)"
   ]
  },
  {
   "cell_type": "code",
   "execution_count": 36,
   "metadata": {
    "collapsed": true
   },
   "outputs": [],
   "source": [
    "with open(initial_cs_split_fn, \"wb\") as f:\n",
    "    pickle.dump(initial_cs_split, f)"
   ]
  },
  {
   "cell_type": "markdown",
   "metadata": {},
   "source": [
    "#### Complete Cross-Subject Test (2-fold)"
   ]
  },
  {
   "cell_type": "code",
   "execution_count": 22,
   "metadata": {
    "collapsed": false
   },
   "outputs": [],
   "source": [
    "complete_cs_train_indices = list(itertools.combinations(subjects_list, int(len(subjects_list)/2)))\n",
    "complete_cs_split = [\n",
    "    {\"train\": [train_indices], \"test\": [set(subjects_list) - set(train_indices)]} for train_indices in complete_cs_train_indices\n",
    "]"
   ]
  },
  {
   "cell_type": "code",
   "execution_count": 23,
   "metadata": {
    "collapsed": true
   },
   "outputs": [],
   "source": [
    "complete_cs_split_fn = \"{data_dir}/{data}_split_complete_cs.pickle\".format(data_dir=PREPROCESSED_DIRECTORY, data=DATA_ALL)"
   ]
  },
  {
   "cell_type": "code",
   "execution_count": 24,
   "metadata": {
    "collapsed": true
   },
   "outputs": [],
   "source": [
    "with open(complete_cs_split_fn, \"wb\") as f:\n",
    "    pickle.dump(complete_cs_split, f)"
   ]
  },
  {
   "cell_type": "markdown",
   "metadata": {},
   "source": [
    "#### N-Subject-Fold (12-fold)"
   ]
  },
  {
   "cell_type": "code",
   "execution_count": 25,
   "metadata": {
    "collapsed": false
   },
   "outputs": [],
   "source": [
    "n_subject_split = [{\"train\": [set(subjects_list) - {test_idx}], \"test\": [test_idx]} for test_idx in subjects_list]"
   ]
  },
  {
   "cell_type": "code",
   "execution_count": 26,
   "metadata": {
    "collapsed": true
   },
   "outputs": [],
   "source": [
    "n_subject_split_fn = \"{data_dir}/{data}_split_n_subject.pickle\".format(data_dir=PREPROCESSED_DIRECTORY, data=DATA_ALL)"
   ]
  },
  {
   "cell_type": "code",
   "execution_count": 27,
   "metadata": {
    "collapsed": true
   },
   "outputs": [],
   "source": [
    "with open(n_subject_split_fn, \"wb\") as f:\n",
    "    pickle.dump(n_subject_split, f)"
   ]
  },
  {
   "cell_type": "markdown",
   "metadata": {},
   "source": [
    "# TRAINING"
   ]
  },
  {
   "cell_type": "markdown",
   "metadata": {},
   "source": [
    "#### Initial Cross-Subject Test"
   ]
  },
  {
   "cell_type": "code",
   "execution_count": 37,
   "metadata": {
    "collapsed": true
   },
   "outputs": [],
   "source": [
    "with open(initial_cs_split_fn, \"rb\") as f:\n",
    "    initial_cs_split = pickle.load(f)"
   ]
  },
  {
   "cell_type": "code",
   "execution_count": 68,
   "metadata": {
    "collapsed": false
   },
   "outputs": [],
   "source": [
    "PARAMS = {}\n",
    "PARAMS[\"eta\"] = 0.3\n",
    "PARAMS[\"gamma\"] = 1\n",
    "PARAMS[\"lambda\"] = 1\n",
    "PARAMS[\"alpha\"] = 0\n",
    "PARAMS[\"max_depth\"] = 6\n",
    "PARAMS[\"colsample_bytree\"] = 0.5\n",
    "PARAMS[\"colsample_bylevel\"] = 0.5\n",
    "PARAMS[\"subsample\"] = 0.5\n",
    "PARAMS[\"objective\"] = \"multi:softmax\"\n",
    "PARAMS[\"eval_metric\"] = \"merror\"\n",
    "PARAMS[\"num_class\"] = len(activities_list)\n",
    "PARAMS[\"silent\"] = 0\n",
    "NUM_ROUNDS = 200\n",
    "EARLYSTOPPING_ROUNDS = 30"
   ]
  },
  {
   "cell_type": "code",
   "execution_count": 74,
   "metadata": {
    "collapsed": true
   },
   "outputs": [
    {
     "name": "stdout",
     "output_type": "stream",
     "text": [
      "[0]\ttrain-merror:0.055888\teval-merror:0.256446\n",
      "Multiple eval metrics have been passed: 'eval-merror' will be used for early stopping.\n",
      "\n",
      "Will train until eval-merror hasn't improved in 30 rounds.\n",
      "[1]\ttrain-merror:0.034998\teval-merror:0.235604\n",
      "[2]\ttrain-merror:0.028044\teval-merror:0.219468\n",
      "[3]\ttrain-merror:0.025755\teval-merror:0.189738\n",
      "[4]\ttrain-merror:0.023237\teval-merror:0.181777\n",
      "[5]\ttrain-merror:0.020976\teval-merror:0.180898\n",
      "[6]\ttrain-merror:0.0182\teval-merror:0.16911\n",
      "[7]\ttrain-merror:0.016855\teval-merror:0.16172\n",
      "[8]\ttrain-merror:0.015424\teval-merror:0.15806\n",
      "[9]\ttrain-merror:0.014823\teval-merror:0.159795\n",
      "[10]\ttrain-merror:0.013764\teval-merror:0.16046\n",
      "[11]\ttrain-merror:0.01282\teval-merror:0.157062\n",
      "[12]\ttrain-merror:0.011876\teval-merror:0.151762\n",
      "[13]\ttrain-merror:0.010931\teval-merror:0.145369\n",
      "[14]\ttrain-merror:0.009959\teval-merror:0.145346\n",
      "[15]\ttrain-merror:0.008986\teval-merror:0.145132\n",
      "[16]\ttrain-merror:0.008299\teval-merror:0.142708\n",
      "[17]\ttrain-merror:0.007612\teval-merror:0.143492\n",
      "[18]\ttrain-merror:0.007412\teval-merror:0.142114\n",
      "[19]\ttrain-merror:0.00704\teval-merror:0.141781\n",
      "[20]\ttrain-merror:0.006496\teval-merror:0.141947\n",
      "[21]\ttrain-merror:0.006009\teval-merror:0.140759\n",
      "[22]\ttrain-merror:0.005666\teval-merror:0.140236\n",
      "[23]\ttrain-merror:0.005351\teval-merror:0.138953\n",
      "[24]\ttrain-merror:0.005036\teval-merror:0.136481\n",
      "[25]\ttrain-merror:0.004722\teval-merror:0.136291\n",
      "[26]\ttrain-merror:0.004607\teval-merror:0.13496\n",
      "[27]\ttrain-merror:0.004378\teval-merror:0.134152\n",
      "[28]\ttrain-merror:0.004207\teval-merror:0.133915\n",
      "[29]\ttrain-merror:0.003749\teval-merror:0.13256\n",
      "[30]\ttrain-merror:0.003606\teval-merror:0.132536\n",
      "[31]\ttrain-merror:0.00332\teval-merror:0.132774\n",
      "[32]\ttrain-merror:0.003234\teval-merror:0.131134\n",
      "[33]\ttrain-merror:0.003091\teval-merror:0.129352\n",
      "[34]\ttrain-merror:0.002747\teval-merror:0.127926\n",
      "[35]\ttrain-merror:0.002375\teval-merror:0.129043\n",
      "[36]\ttrain-merror:0.002289\teval-merror:0.126928\n",
      "[37]\ttrain-merror:0.002347\teval-merror:0.127356\n",
      "[38]\ttrain-merror:0.002175\teval-merror:0.127498\n",
      "[39]\ttrain-merror:0.002203\teval-merror:0.125882\n",
      "[40]\ttrain-merror:0.002089\teval-merror:0.12612\n",
      "[41]\ttrain-merror:0.00206\teval-merror:0.127023\n",
      "[42]\ttrain-merror:0.002003\teval-merror:0.126738\n",
      "[43]\ttrain-merror:0.001889\teval-merror:0.127094\n",
      "[44]\ttrain-merror:0.001803\teval-merror:0.126405\n",
      "[45]\ttrain-merror:0.001631\teval-merror:0.128211\n",
      "[46]\ttrain-merror:0.001631\teval-merror:0.128948\n",
      "[47]\ttrain-merror:0.001517\teval-merror:0.128782\n",
      "[48]\ttrain-merror:0.001517\teval-merror:0.1289\n",
      "[49]\ttrain-merror:0.001459\teval-merror:0.127451\n",
      "[50]\ttrain-merror:0.001459\teval-merror:0.126928\n",
      "[51]\ttrain-merror:0.001459\teval-merror:0.126548\n",
      "[52]\ttrain-merror:0.001459\teval-merror:0.12669\n",
      "[53]\ttrain-merror:0.001431\teval-merror:0.125859\n",
      "[54]\ttrain-merror:0.001431\teval-merror:0.125811\n",
      "[55]\ttrain-merror:0.001374\teval-merror:0.125051\n",
      "[56]\ttrain-merror:0.001374\teval-merror:0.125835\n",
      "[57]\ttrain-merror:0.001402\teval-merror:0.126476\n",
      "[58]\ttrain-merror:0.001345\teval-merror:0.125716\n",
      "[59]\ttrain-merror:0.001288\teval-merror:0.125882\n",
      "[60]\ttrain-merror:0.001231\teval-merror:0.124765\n",
      "[61]\ttrain-merror:0.001231\teval-merror:0.124884\n",
      "[62]\ttrain-merror:0.001259\teval-merror:0.123696\n",
      "[63]\ttrain-merror:0.001202\teval-merror:0.12391\n",
      "[64]\ttrain-merror:0.001231\teval-merror:0.123482\n",
      "[65]\ttrain-merror:0.001259\teval-merror:0.124314\n",
      "[66]\ttrain-merror:0.001231\teval-merror:0.123482\n",
      "[67]\ttrain-merror:0.001202\teval-merror:0.122222\n",
      "[68]\ttrain-merror:0.001116\teval-merror:0.122413\n",
      "[69]\ttrain-merror:0.001116\teval-merror:0.122626\n",
      "[70]\ttrain-merror:0.000973\teval-merror:0.122935\n",
      "[71]\ttrain-merror:0.000973\teval-merror:0.123007\n",
      "[72]\ttrain-merror:0.000973\teval-merror:0.123007\n",
      "[73]\ttrain-merror:0.001002\teval-merror:0.122864\n",
      "[74]\ttrain-merror:0.001002\teval-merror:0.123244\n",
      "[75]\ttrain-merror:0.001002\teval-merror:0.123339\n",
      "[76]\ttrain-merror:0.00103\teval-merror:0.123601\n",
      "[77]\ttrain-merror:0.001002\teval-merror:0.124338\n",
      "[78]\ttrain-merror:0.000973\teval-merror:0.124789\n",
      "[79]\ttrain-merror:0.000973\teval-merror:0.124694\n",
      "[80]\ttrain-merror:0.000887\teval-merror:0.124813\n",
      "[81]\ttrain-merror:0.000858\teval-merror:0.125193\n",
      "[82]\ttrain-merror:0.000887\teval-merror:0.124742\n",
      "[83]\ttrain-merror:0.000916\teval-merror:0.125597\n",
      "[84]\ttrain-merror:0.000944\teval-merror:0.125621\n",
      "[85]\ttrain-merror:0.001002\teval-merror:0.125645\n",
      "[86]\ttrain-merror:0.001002\teval-merror:0.125526\n",
      "[87]\ttrain-merror:0.001002\teval-merror:0.12555\n",
      "[88]\ttrain-merror:0.000973\teval-merror:0.12631\n",
      "[89]\ttrain-merror:0.000916\teval-merror:0.126072\n",
      "[90]\ttrain-merror:0.000801\teval-merror:0.12574\n",
      "[91]\ttrain-merror:0.00083\teval-merror:0.125763\n",
      "[92]\ttrain-merror:0.000887\teval-merror:0.125193\n",
      "[93]\ttrain-merror:0.000858\teval-merror:0.125003\n",
      "[94]\ttrain-merror:0.000887\teval-merror:0.124932\n",
      "[95]\ttrain-merror:0.000916\teval-merror:0.125003\n",
      "[96]\ttrain-merror:0.000887\teval-merror:0.124955\n",
      "[97]\ttrain-merror:0.000858\teval-merror:0.124932\n",
      "Stopping. Best iteration:\n",
      "[67]\ttrain-merror:0.001202\teval-merror:0.122222\n",
      "\n",
      "[0]\ttrain-merror:0.063832\teval-merror:0.225726\n",
      "Multiple eval metrics have been passed: 'eval-merror' will be used for early stopping.\n",
      "\n",
      "Will train until eval-merror hasn't improved in 30 rounds.\n",
      "[1]\ttrain-merror:0.038475\teval-merror:0.19897\n",
      "[2]\ttrain-merror:0.030942\teval-merror:0.180741\n",
      "[3]\ttrain-merror:0.026545\teval-merror:0.181628\n",
      "[4]\ttrain-merror:0.024288\teval-merror:0.173043\n",
      "[5]\ttrain-merror:0.022767\teval-merror:0.168837\n",
      "[6]\ttrain-merror:0.021198\teval-merror:0.161139\n",
      "[7]\ttrain-merror:0.01982\teval-merror:0.147918\n",
      "[8]\ttrain-merror:0.018869\teval-merror:0.138875\n",
      "[9]\ttrain-merror:0.017039\teval-merror:0.134383\n",
      "[10]\ttrain-merror:0.015423\teval-merror:0.126513\n",
      "[11]\ttrain-merror:0.014924\teval-merror:0.119073\n",
      "[12]\ttrain-merror:0.013522\teval-merror:0.117671\n",
      "[13]\ttrain-merror:0.0125\teval-merror:0.115124\n",
      "[14]\ttrain-merror:0.01193\teval-merror:0.114094\n",
      "[15]\ttrain-merror:0.010884\teval-merror:0.111032\n",
      "[16]\ttrain-merror:0.010266\teval-merror:0.112777\n",
      "[17]\ttrain-merror:0.009649\teval-merror:0.110345\n",
      "[18]\ttrain-merror:0.009054\teval-merror:0.107197\n",
      "[19]\ttrain-merror:0.008437\teval-merror:0.107025\n",
      "[20]\ttrain-merror:0.007819\teval-merror:0.107254\n",
      "[21]\ttrain-merror:0.007058\teval-merror:0.108971\n",
      "[22]\ttrain-merror:0.006488\teval-merror:0.110373\n",
      "[23]\ttrain-merror:0.005941\teval-merror:0.106997\n",
      "[24]\ttrain-merror:0.005632\teval-merror:0.107655\n",
      "[25]\ttrain-merror:0.0053\teval-merror:0.10465\n",
      "[26]\ttrain-merror:0.005109\teval-merror:0.100816\n",
      "[27]\ttrain-merror:0.004729\teval-merror:0.100844\n",
      "[28]\ttrain-merror:0.004325\teval-merror:0.101674\n",
      "[29]\ttrain-merror:0.004088\teval-merror:0.101645\n",
      "[30]\ttrain-merror:0.003779\teval-merror:0.100215\n",
      "[31]\ttrain-merror:0.003684\teval-merror:0.098326\n",
      "[32]\ttrain-merror:0.003375\teval-merror:0.09927\n",
      "[33]\ttrain-merror:0.003327\teval-merror:0.099642\n",
      "[34]\ttrain-merror:0.003137\teval-merror:0.097324\n",
      "[35]\ttrain-merror:0.003018\teval-merror:0.095493\n",
      "[36]\ttrain-merror:0.002757\teval-merror:0.096437\n",
      "[37]\ttrain-merror:0.002567\teval-merror:0.09555\n",
      "[38]\ttrain-merror:0.0024\teval-merror:0.094148\n",
      "[39]\ttrain-merror:0.0024\teval-merror:0.090886\n",
      "[40]\ttrain-merror:0.002329\teval-merror:0.091229\n",
      "[41]\ttrain-merror:0.002186\teval-merror:0.089655\n",
      "[42]\ttrain-merror:0.002139\teval-merror:0.08791\n",
      "[43]\ttrain-merror:0.001996\teval-merror:0.086822\n",
      "[44]\ttrain-merror:0.001877\teval-merror:0.086851\n",
      "[45]\ttrain-merror:0.001759\teval-merror:0.087509\n",
      "[46]\ttrain-merror:0.001759\teval-merror:0.086937\n",
      "[47]\ttrain-merror:0.001711\teval-merror:0.087452\n",
      "[48]\ttrain-merror:0.001735\teval-merror:0.087652\n",
      "[49]\ttrain-merror:0.001402\teval-merror:0.088425\n",
      "[50]\ttrain-merror:0.00145\teval-merror:0.087194\n",
      "[51]\ttrain-merror:0.001426\teval-merror:0.088596\n",
      "[52]\ttrain-merror:0.001307\teval-merror:0.087795\n",
      "[53]\ttrain-merror:0.001307\teval-merror:0.087337\n",
      "[54]\ttrain-merror:0.001164\teval-merror:0.087766\n",
      "[55]\ttrain-merror:0.001212\teval-merror:0.086822\n",
      "[56]\ttrain-merror:0.001188\teval-merror:0.087137\n",
      "[57]\ttrain-merror:0.001164\teval-merror:0.087938\n",
      "[58]\ttrain-merror:0.001141\teval-merror:0.088053\n",
      "[59]\ttrain-merror:0.001164\teval-merror:0.088968\n",
      "[60]\ttrain-merror:0.001093\teval-merror:0.088883\n",
      "[61]\ttrain-merror:0.001022\teval-merror:0.088339\n",
      "[62]\ttrain-merror:0.001022\teval-merror:0.088854\n",
      "[63]\ttrain-merror:0.001046\teval-merror:0.088711\n",
      "[64]\ttrain-merror:0.001022\teval-merror:0.08831\n",
      "[65]\ttrain-merror:0.000998\teval-merror:0.087366\n",
      "[66]\ttrain-merror:0.000927\teval-merror:0.087137\n",
      "[67]\ttrain-merror:0.000903\teval-merror:0.086965\n",
      "[68]\ttrain-merror:0.000951\teval-merror:0.087452\n",
      "[69]\ttrain-merror:0.000951\teval-merror:0.087824\n",
      "[70]\ttrain-merror:0.000974\teval-merror:0.08791\n",
      "[71]\ttrain-merror:0.000951\teval-merror:0.088167\n",
      "[72]\ttrain-merror:0.000974\teval-merror:0.08728\n",
      "[73]\ttrain-merror:0.000951\teval-merror:0.086851\n",
      "Stopping. Best iteration:\n",
      "[43]\ttrain-merror:0.001996\teval-merror:0.086822\n",
      "\n"
     ]
    }
   ],
   "source": [
    "# Find best iteration by early stopping\n",
    "\n",
    "init_cs_results = []\n",
    "\n",
    "for train_test in initial_cs_split:\n",
    "    train_indices = all_labels_df[all_labels_df[\"subject\"].isin(train_test[\"train\"])].index.tolist()\n",
    "    test_indices = all_labels_df[all_labels_df[\"subject\"].isin(train_test[\"test\"])].index.tolist()\n",
    "    \n",
    "    X_train = X.iloc[train_indices]\n",
    "    X_test = X.iloc[test_indices]\n",
    "    y_train = y.iloc[train_indices]\n",
    "    y_test = y.iloc[test_indices]\n",
    "    \n",
    "    train_dmatrix = xgb.DMatrix(X_train, y_train)\n",
    "    test_dmatrix = xgb.DMatrix(X_test, y_test)\n",
    "    watchlist = [(train_dmatrix, \"train\"), (test_dmatrix, \"eval\")]\n",
    "    results = {}\n",
    "    \n",
    "    xgb.train(params=PARAMS, dtrain=train_dmatrix, num_boost_round=NUM_ROUNDS, evals=watchlist, evals_result=results,\n",
    "                early_stopping_rounds=EARLYSTOPPING_ROUNDS)\n",
    "    \n",
    "    init_cs_results.append(results[\"eval\"][\"merror\"])"
   ]
  },
  {
   "cell_type": "code",
   "execution_count": 96,
   "metadata": {
    "collapsed": true
   },
   "outputs": [],
   "source": [
    "# Average across results\n",
    "\n",
    "init_cs_results_avg = [(x + y) / 2 for (x, y) in zip(*init_cs_results)]\n",
    "\n",
    "init_cs_min_error = init_cs_results_avg[0]\n",
    "init_cs_best_iter = 0\n",
    "init_cs_early_stopping = 0\n",
    "for i, error in enumerate(init_cs_results_avg):\n",
    "    if error <= init_cs_min_error:\n",
    "        init_cs_min_error = error\n",
    "        init_cs_best_iter = i\n",
    "        init_cs_early_stopping = 1\n",
    "    else:\n",
    "        init_cs_early_stopping += 1\n",
    "    if init_cs_early_stopping == 30:\n",
    "        break"
   ]
  },
  {
   "cell_type": "code",
   "execution_count": 97,
   "metadata": {
    "collapsed": false
   },
   "outputs": [],
   "source": [
    "# Train Booster\n",
    "\n",
    "init_cs_booster = xgb.train(params=PARAMS, dtrain=X_all, num_boost_round=init_cs_best_iter+1)"
   ]
  },
  {
   "cell_type": "code",
   "execution_count": 99,
   "metadata": {
    "collapsed": true
   },
   "outputs": [],
   "source": [
    "# Save model\n",
    "\n",
    "init_cs_booster.save_model(\"init_cs.model\")"
   ]
  },
  {
   "cell_type": "code",
   "execution_count": 104,
   "metadata": {
    "collapsed": false
   },
   "outputs": [
    {
     "data": {
      "text/plain": [
       "0.9984420440382219"
      ]
     },
     "execution_count": 104,
     "metadata": {},
     "output_type": "execute_result"
    }
   ],
   "source": [
    "y_predicted = init_cs_booster.predict(X_all)\n",
    "accuracy = metrics.accuracy_score(y, y_predicted)\n",
    "accuracy"
   ]
  }
 ],
 "metadata": {
  "kernelspec": {
   "display_name": "Python 3",
   "language": "python",
   "name": "python3"
  },
  "language_info": {
   "codemirror_mode": {
    "name": "ipython",
    "version": 3
   },
   "file_extension": ".py",
   "mimetype": "text/x-python",
   "name": "python",
   "nbconvert_exporter": "python",
   "pygments_lexer": "ipython3",
   "version": "3.6.0"
  }
 },
 "nbformat": 4,
 "nbformat_minor": 2
}

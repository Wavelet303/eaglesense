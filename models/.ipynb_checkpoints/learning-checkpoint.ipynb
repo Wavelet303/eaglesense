{
 "cells": [
  {
   "cell_type": "code",
   "execution_count": 1,
   "metadata": {
    "collapsed": false
   },
   "outputs": [],
   "source": [
    "import xgboost as xgb\n",
    "from sklearn import model_selection\n",
    "from sklearn import metrics\n",
    "\n",
    "import numpy as np\n",
    "import pandas as pd\n",
    "import os\n",
    "import pickle\n",
    "import itertools"
   ]
  },
  {
   "cell_type": "markdown",
   "metadata": {},
   "source": [
    "# PATHS"
   ]
  },
  {
   "cell_type": "code",
   "execution_count": 2,
   "metadata": {
    "collapsed": true
   },
   "outputs": [],
   "source": [
    "DATA_DIRECTORY = \"../data/topviewkinect/\"\n",
    "\n",
    "PREPROCESSED_DIRECTORY = DATA_DIRECTORY + \"all/\"\n",
    "\n",
    "DATA_ALL = \"all\""
   ]
  },
  {
   "cell_type": "markdown",
   "metadata": {},
   "source": [
    "# PREPROCESSING"
   ]
  },
  {
   "cell_type": "markdown",
   "metadata": {},
   "source": [
    "### Sanity check"
   ]
  },
  {
   "cell_type": "code",
   "execution_count": 29,
   "metadata": {
    "collapsed": false
   },
   "outputs": [
    {
     "name": "stdout",
     "output_type": "stream",
     "text": [
      "Done!\n"
     ]
    }
   ],
   "source": [
    "for dataset_id in next(os.walk(DATA_DIRECTORY))[1]:\n",
    "    if not dataset_id.isdigit():\n",
    "        continue\n",
    "\n",
    "    features_csv = \"{data_dir}/{dataset_id}/features.csv\".format(data_dir=DATA_DIRECTORY, dataset_id=dataset_id)\n",
    "    features_df = pd.read_csv(features_csv)\n",
    "    labels_csv = \"{data_dir}/{dataset_id}/labels.csv\".format(data_dir=DATA_DIRECTORY, dataset_id=dataset_id)\n",
    "    labels_df = pd.read_csv(labels_csv)\n",
    "    \n",
    "    if -1 in labels_df[\"activity\"].values:\n",
    "        print(dataset_id, \"missing labels\")\n",
    "    \n",
    "    if 1 in labels_df[\"skeleton_id\"].values:\n",
    "        print(dataset_id, \"multiple people labels\")\n",
    "\n",
    "    if 1 in features_df[\"skeleton_id\"].values:\n",
    "        print(dataset_id, \"multiple people features\")\n",
    "\n",
    "print(\"Done!\")"
   ]
  },
  {
   "cell_type": "markdown",
   "metadata": {},
   "source": [
    "### All features and labels"
   ]
  },
  {
   "cell_type": "code",
   "execution_count": 3,
   "metadata": {
    "collapsed": true
   },
   "outputs": [],
   "source": [
    "ignored_features_cols = [\"frame_id\", \"skeleton_id\", \"x\", \"y\", \"z\"]\n",
    "ignored_labels_cols = [\"frame_id\", \"skeleton_id\"]"
   ]
  },
  {
   "cell_type": "code",
   "execution_count": 4,
   "metadata": {
    "collapsed": true
   },
   "outputs": [],
   "source": [
    "all_features_csv = \"{data_dir}/{data}_features.csv\".format(data_dir=PREPROCESSED_DIRECTORY, data=DATA_ALL)\n",
    "all_labels_csv = \"{data_dir}/{data}_labels.csv\".format(data_dir=PREPROCESSED_DIRECTORY, data=DATA_ALL)"
   ]
  },
  {
   "cell_type": "code",
   "execution_count": 28,
   "metadata": {
    "collapsed": false
   },
   "outputs": [
    {
     "name": "stdout",
     "output_type": "stream",
     "text": [
      "1 , 10 , 11 , 12 , 2 , 3 , 4 , 5 , 6 , 7 , 8 , 9 , \n",
      "Done!\n"
     ]
    }
   ],
   "source": [
    "# Overwrite previous data files\n",
    "open(all_features_csv, \"w\").close()\n",
    "open(all_labels_csv, \"w\").close()\n",
    "\n",
    "# Open data files\n",
    "all_features_f = open(all_features_csv, \"a\")\n",
    "all_labels_f = open(all_labels_csv, \"a\")\n",
    "header=True\n",
    "\n",
    "for dataset_id in next(os.walk(DATA_DIRECTORY))[1]:\n",
    "    if not dataset_id.isdigit():\n",
    "        continue\n",
    "    else:\n",
    "        print(dataset_id, \", \", end=\"\")\n",
    "\n",
    "    features_csv = \"{data_dir}/{dataset_id}/features.csv\".format(data_dir=DATA_DIRECTORY, dataset_id=dataset_id)\n",
    "    features_df = pd.read_csv(features_csv, low_memory=False)\n",
    "    labels_csv = \"{data_dir}/{dataset_id}/labels.csv\".format(data_dir=DATA_DIRECTORY, dataset_id=dataset_id)\n",
    "    labels_df = pd.read_csv(labels_csv)\n",
    "\n",
    "    # Keep only tracking skeletons\n",
    "    labels_df = labels_df.loc[labels_df[\"skeleton_id\"] == 0]\n",
    "    labels_df = labels_df.loc[labels_df[\"activity\"] != 6]\n",
    "    frame_indices = labels_df[\"frame_id\"].values\n",
    "    \n",
    "    features_df = features_df.loc[features_df[\"frame_id\"].isin(frame_indices)]\n",
    "    labels_df = labels_df.loc[labels_df[\"frame_id\"].isin(features_df[\"frame_id\"].values)]\n",
    "    \n",
    "    # Append features and labels\n",
    "    features_df = features_df.drop(labels=ignored_features_cols, axis=1)\n",
    "    features_df[\"subject\"] = int(dataset_id)\n",
    "    features_df = features_df.astype(np.float32)\n",
    "    features_df.to_csv(all_features_f, header=header, index=False)\n",
    "    \n",
    "    labels_df = labels_df.drop(labels=ignored_labels_cols, axis=1)\n",
    "    labels_df[\"subject\"] = int(dataset_id)\n",
    "    labels_df = labels_df.astype(np.int)\n",
    "    labels_df.to_csv(all_labels_f, header=header, index=False)\n",
    "    \n",
    "    header = False\n",
    "    \n",
    "all_features_f.close()\n",
    "all_labels_f.close()\n",
    "\n",
    "print(\"\\nDone!\")"
   ]
  },
  {
   "cell_type": "markdown",
   "metadata": {},
   "source": [
    "### Data overview"
   ]
  },
  {
   "cell_type": "code",
   "execution_count": 5,
   "metadata": {
    "collapsed": false
   },
   "outputs": [],
   "source": [
    "all_features_df = pd.read_csv(all_features_csv)\n",
    "all_labels_df = pd.read_csv(all_labels_csv)"
   ]
  },
  {
   "cell_type": "code",
   "execution_count": 6,
   "metadata": {
    "collapsed": false,
    "scrolled": true
   },
   "outputs": [
    {
     "data": {
      "text/plain": [
       "(77024, 73)"
      ]
     },
     "execution_count": 6,
     "metadata": {},
     "output_type": "execute_result"
    }
   ],
   "source": [
    "all_features_df.shape"
   ]
  },
  {
   "cell_type": "code",
   "execution_count": 7,
   "metadata": {
    "collapsed": false
   },
   "outputs": [
    {
     "data": {
      "text/html": [
       "<div>\n",
       "<table border=\"1\" class=\"dataframe\">\n",
       "  <thead>\n",
       "    <tr style=\"text-align: right;\">\n",
       "      <th></th>\n",
       "      <th>layer_area_0</th>\n",
       "      <th>layer_area_1</th>\n",
       "      <th>layer_area_2</th>\n",
       "      <th>layer_contours_0</th>\n",
       "      <th>layer_contours_1</th>\n",
       "      <th>layer_distance_0</th>\n",
       "      <th>layer_distance_1</th>\n",
       "      <th>layer_distance_2</th>\n",
       "      <th>layer_distance_3</th>\n",
       "      <th>layer_distance_4</th>\n",
       "      <th>...</th>\n",
       "      <th>interlayer_pos_16</th>\n",
       "      <th>interlayer_pos_17</th>\n",
       "      <th>extremities0</th>\n",
       "      <th>extreme_infrared_0</th>\n",
       "      <th>extreme_infrared_1</th>\n",
       "      <th>extreme_infrared_2</th>\n",
       "      <th>extreme_infrared_3</th>\n",
       "      <th>extreme_infrared_4</th>\n",
       "      <th>extreme_infrared_5</th>\n",
       "      <th>subject</th>\n",
       "    </tr>\n",
       "  </thead>\n",
       "  <tbody>\n",
       "    <tr>\n",
       "      <th>0</th>\n",
       "      <td>0.297578</td>\n",
       "      <td>0.411765</td>\n",
       "      <td>0.290657</td>\n",
       "      <td>3.0</td>\n",
       "      <td>3.0</td>\n",
       "      <td>16.552900</td>\n",
       "      <td>26.683300</td>\n",
       "      <td>26.019199</td>\n",
       "      <td>26.683300</td>\n",
       "      <td>201.0</td>\n",
       "      <td>...</td>\n",
       "      <td>-26.0</td>\n",
       "      <td>-107.0</td>\n",
       "      <td>4.0</td>\n",
       "      <td>0.0</td>\n",
       "      <td>10.0</td>\n",
       "      <td>11.5</td>\n",
       "      <td>11.5</td>\n",
       "      <td>0.0</td>\n",
       "      <td>11.5</td>\n",
       "      <td>1.0</td>\n",
       "    </tr>\n",
       "    <tr>\n",
       "      <th>1</th>\n",
       "      <td>0.310345</td>\n",
       "      <td>0.419238</td>\n",
       "      <td>0.270417</td>\n",
       "      <td>3.0</td>\n",
       "      <td>3.0</td>\n",
       "      <td>16.401199</td>\n",
       "      <td>26.476400</td>\n",
       "      <td>26.019199</td>\n",
       "      <td>26.476400</td>\n",
       "      <td>191.5</td>\n",
       "      <td>...</td>\n",
       "      <td>-26.0</td>\n",
       "      <td>-105.0</td>\n",
       "      <td>5.0</td>\n",
       "      <td>0.5</td>\n",
       "      <td>9.0</td>\n",
       "      <td>11.0</td>\n",
       "      <td>1.0</td>\n",
       "      <td>0.5</td>\n",
       "      <td>11.0</td>\n",
       "      <td>1.0</td>\n",
       "    </tr>\n",
       "    <tr>\n",
       "      <th>2</th>\n",
       "      <td>0.318015</td>\n",
       "      <td>0.386029</td>\n",
       "      <td>0.295956</td>\n",
       "      <td>3.0</td>\n",
       "      <td>3.0</td>\n",
       "      <td>16.124500</td>\n",
       "      <td>26.248800</td>\n",
       "      <td>27.018499</td>\n",
       "      <td>26.248800</td>\n",
       "      <td>174.5</td>\n",
       "      <td>...</td>\n",
       "      <td>-26.0</td>\n",
       "      <td>-104.0</td>\n",
       "      <td>5.0</td>\n",
       "      <td>0.0</td>\n",
       "      <td>12.5</td>\n",
       "      <td>4.5</td>\n",
       "      <td>4.5</td>\n",
       "      <td>0.5</td>\n",
       "      <td>13.0</td>\n",
       "      <td>1.0</td>\n",
       "    </tr>\n",
       "    <tr>\n",
       "      <th>3</th>\n",
       "      <td>0.348399</td>\n",
       "      <td>0.384181</td>\n",
       "      <td>0.267420</td>\n",
       "      <td>3.0</td>\n",
       "      <td>3.0</td>\n",
       "      <td>16.401199</td>\n",
       "      <td>26.419701</td>\n",
       "      <td>26.476400</td>\n",
       "      <td>26.419701</td>\n",
       "      <td>164.0</td>\n",
       "      <td>...</td>\n",
       "      <td>-25.0</td>\n",
       "      <td>-103.0</td>\n",
       "      <td>5.0</td>\n",
       "      <td>0.0</td>\n",
       "      <td>6.0</td>\n",
       "      <td>4.5</td>\n",
       "      <td>0.0</td>\n",
       "      <td>0.0</td>\n",
       "      <td>7.0</td>\n",
       "      <td>1.0</td>\n",
       "    </tr>\n",
       "    <tr>\n",
       "      <th>4</th>\n",
       "      <td>0.356383</td>\n",
       "      <td>0.370567</td>\n",
       "      <td>0.273050</td>\n",
       "      <td>3.0</td>\n",
       "      <td>3.0</td>\n",
       "      <td>17.719999</td>\n",
       "      <td>27.459101</td>\n",
       "      <td>27.459101</td>\n",
       "      <td>27.459101</td>\n",
       "      <td>164.5</td>\n",
       "      <td>...</td>\n",
       "      <td>-26.0</td>\n",
       "      <td>-107.0</td>\n",
       "      <td>3.0</td>\n",
       "      <td>0.0</td>\n",
       "      <td>0.0</td>\n",
       "      <td>0.5</td>\n",
       "      <td>0.0</td>\n",
       "      <td>0.0</td>\n",
       "      <td>0.5</td>\n",
       "      <td>1.0</td>\n",
       "    </tr>\n",
       "  </tbody>\n",
       "</table>\n",
       "<p>5 rows × 73 columns</p>\n",
       "</div>"
      ],
      "text/plain": [
       "   layer_area_0  layer_area_1  layer_area_2  layer_contours_0  \\\n",
       "0      0.297578      0.411765      0.290657               3.0   \n",
       "1      0.310345      0.419238      0.270417               3.0   \n",
       "2      0.318015      0.386029      0.295956               3.0   \n",
       "3      0.348399      0.384181      0.267420               3.0   \n",
       "4      0.356383      0.370567      0.273050               3.0   \n",
       "\n",
       "   layer_contours_1  layer_distance_0  layer_distance_1  layer_distance_2  \\\n",
       "0               3.0         16.552900         26.683300         26.019199   \n",
       "1               3.0         16.401199         26.476400         26.019199   \n",
       "2               3.0         16.124500         26.248800         27.018499   \n",
       "3               3.0         16.401199         26.419701         26.476400   \n",
       "4               3.0         17.719999         27.459101         27.459101   \n",
       "\n",
       "   layer_distance_3  layer_distance_4   ...     interlayer_pos_16  \\\n",
       "0         26.683300             201.0   ...                 -26.0   \n",
       "1         26.476400             191.5   ...                 -26.0   \n",
       "2         26.248800             174.5   ...                 -26.0   \n",
       "3         26.419701             164.0   ...                 -25.0   \n",
       "4         27.459101             164.5   ...                 -26.0   \n",
       "\n",
       "   interlayer_pos_17  extremities0  extreme_infrared_0  extreme_infrared_1  \\\n",
       "0             -107.0           4.0                 0.0                10.0   \n",
       "1             -105.0           5.0                 0.5                 9.0   \n",
       "2             -104.0           5.0                 0.0                12.5   \n",
       "3             -103.0           5.0                 0.0                 6.0   \n",
       "4             -107.0           3.0                 0.0                 0.0   \n",
       "\n",
       "   extreme_infrared_2  extreme_infrared_3  extreme_infrared_4  \\\n",
       "0                11.5                11.5                 0.0   \n",
       "1                11.0                 1.0                 0.5   \n",
       "2                 4.5                 4.5                 0.5   \n",
       "3                 4.5                 0.0                 0.0   \n",
       "4                 0.5                 0.0                 0.0   \n",
       "\n",
       "   extreme_infrared_5  subject  \n",
       "0                11.5      1.0  \n",
       "1                11.0      1.0  \n",
       "2                13.0      1.0  \n",
       "3                 7.0      1.0  \n",
       "4                 0.5      1.0  \n",
       "\n",
       "[5 rows x 73 columns]"
      ]
     },
     "execution_count": 7,
     "metadata": {},
     "output_type": "execute_result"
    }
   ],
   "source": [
    "all_features_df.head()"
   ]
  },
  {
   "cell_type": "code",
   "execution_count": 8,
   "metadata": {
    "collapsed": false
   },
   "outputs": [
    {
     "data": {
      "text/plain": [
       "(77024, 4)"
      ]
     },
     "execution_count": 8,
     "metadata": {},
     "output_type": "execute_result"
    }
   ],
   "source": [
    "all_labels_df.shape"
   ]
  },
  {
   "cell_type": "code",
   "execution_count": 9,
   "metadata": {
    "collapsed": false
   },
   "outputs": [
    {
     "data": {
      "text/html": [
       "<div>\n",
       "<table border=\"1\" class=\"dataframe\">\n",
       "  <thead>\n",
       "    <tr style=\"text-align: right;\">\n",
       "      <th></th>\n",
       "      <th>activity</th>\n",
       "      <th>orientation</th>\n",
       "      <th>orientation_accurate</th>\n",
       "      <th>subject</th>\n",
       "    </tr>\n",
       "  </thead>\n",
       "  <tbody>\n",
       "    <tr>\n",
       "      <th>0</th>\n",
       "      <td>0</td>\n",
       "      <td>130</td>\n",
       "      <td>-1</td>\n",
       "      <td>1</td>\n",
       "    </tr>\n",
       "    <tr>\n",
       "      <th>1</th>\n",
       "      <td>0</td>\n",
       "      <td>130</td>\n",
       "      <td>-1</td>\n",
       "      <td>1</td>\n",
       "    </tr>\n",
       "    <tr>\n",
       "      <th>2</th>\n",
       "      <td>0</td>\n",
       "      <td>120</td>\n",
       "      <td>-1</td>\n",
       "      <td>1</td>\n",
       "    </tr>\n",
       "    <tr>\n",
       "      <th>3</th>\n",
       "      <td>0</td>\n",
       "      <td>130</td>\n",
       "      <td>-1</td>\n",
       "      <td>1</td>\n",
       "    </tr>\n",
       "    <tr>\n",
       "      <th>4</th>\n",
       "      <td>0</td>\n",
       "      <td>150</td>\n",
       "      <td>-1</td>\n",
       "      <td>1</td>\n",
       "    </tr>\n",
       "  </tbody>\n",
       "</table>\n",
       "</div>"
      ],
      "text/plain": [
       "   activity  orientation  orientation_accurate  subject\n",
       "0         0          130                    -1        1\n",
       "1         0          130                    -1        1\n",
       "2         0          120                    -1        1\n",
       "3         0          130                    -1        1\n",
       "4         0          150                    -1        1"
      ]
     },
     "execution_count": 9,
     "metadata": {},
     "output_type": "execute_result"
    }
   ],
   "source": [
    "all_labels_df.head()"
   ]
  },
  {
   "cell_type": "code",
   "execution_count": 10,
   "metadata": {
    "collapsed": false
   },
   "outputs": [
    {
     "data": {
      "text/plain": [
       "array([ 1,  2,  3,  4,  5,  6,  7,  8,  9, 10, 11, 12], dtype=int64)"
      ]
     },
     "execution_count": 10,
     "metadata": {},
     "output_type": "execute_result"
    }
   ],
   "source": [
    "subjects_list = np.unique(all_labels_df[\"subject\"])\n",
    "subjects_list"
   ]
  },
  {
   "cell_type": "code",
   "execution_count": 11,
   "metadata": {
    "collapsed": false
   },
   "outputs": [
    {
     "data": {
      "text/plain": [
       "array([0, 1, 2, 3, 4, 5], dtype=int64)"
      ]
     },
     "execution_count": 11,
     "metadata": {},
     "output_type": "execute_result"
    }
   ],
   "source": [
    "activities_list = np.unique(all_labels_df[\"activity\"])\n",
    "activities_list"
   ]
  },
  {
   "cell_type": "code",
   "execution_count": 12,
   "metadata": {
    "collapsed": true
   },
   "outputs": [],
   "source": [
    "X = all_features_df.drop([\"subject\"], axis=1)\n",
    "y = all_labels_df[[\"activity\"]]\n",
    "X_all = xgb.DMatrix(X, y)"
   ]
  },
  {
   "cell_type": "markdown",
   "metadata": {},
   "source": [
    "###  Data split"
   ]
  },
  {
   "cell_type": "markdown",
   "metadata": {},
   "source": [
    "#### Initial Cross-Subject Test (2-fold)"
   ]
  },
  {
   "cell_type": "code",
   "execution_count": 34,
   "metadata": {
    "collapsed": false
   },
   "outputs": [],
   "source": [
    "initial_cs_odd = [subject for subject in subjects_list if subject % 2 == 1]\n",
    "initial_cs_even = [subject for subject in subjects_list if subject % 2 == 0]\n",
    "initial_cs_split = [\n",
    "    {\"train\": initial_cs_odd, \"test\": initial_cs_even},\n",
    "    {\"train\": initial_cs_even, \"test\": initial_cs_odd}\n",
    "]"
   ]
  },
  {
   "cell_type": "code",
   "execution_count": 13,
   "metadata": {
    "collapsed": true
   },
   "outputs": [],
   "source": [
    "initial_cs_split_fn = \"{data_dir}/{data}_split_init_cs.pickle\".format(data_dir=PREPROCESSED_DIRECTORY, data=DATA_ALL)"
   ]
  },
  {
   "cell_type": "code",
   "execution_count": 36,
   "metadata": {
    "collapsed": true
   },
   "outputs": [],
   "source": [
    "with open(initial_cs_split_fn, \"wb\") as f:\n",
    "    pickle.dump(initial_cs_split, f)"
   ]
  },
  {
   "cell_type": "markdown",
   "metadata": {},
   "source": [
    "#### Complete Cross-Subject Test (2-fold)"
   ]
  },
  {
   "cell_type": "code",
   "execution_count": 22,
   "metadata": {
    "collapsed": false
   },
   "outputs": [],
   "source": [
    "complete_cs_train_indices = list(itertools.combinations(subjects_list, int(len(subjects_list)/2)))\n",
    "complete_cs_split = [\n",
    "    {\"train\": list(train_indices), \"test\": list(set(subjects_list) - set(train_indices))} for train_indices in complete_cs_train_indices\n",
    "]"
   ]
  },
  {
   "cell_type": "code",
   "execution_count": 23,
   "metadata": {
    "collapsed": true
   },
   "outputs": [],
   "source": [
    "complete_cs_split_fn = \"{data_dir}/{data}_split_complete_cs.pickle\".format(data_dir=PREPROCESSED_DIRECTORY, data=DATA_ALL)"
   ]
  },
  {
   "cell_type": "code",
   "execution_count": 24,
   "metadata": {
    "collapsed": true
   },
   "outputs": [],
   "source": [
    "with open(complete_cs_split_fn, \"wb\") as f:\n",
    "    pickle.dump(complete_cs_split, f)"
   ]
  },
  {
   "cell_type": "markdown",
   "metadata": {},
   "source": [
    "#### N-Subject-Fold (12-fold)"
   ]
  },
  {
   "cell_type": "code",
   "execution_count": 27,
   "metadata": {
    "collapsed": false
   },
   "outputs": [],
   "source": [
    "n_subject_split = [{\"train\": list(set(subjects_list) - {test_idx}), \"test\": [test_idx]} for test_idx in subjects_list]"
   ]
  },
  {
   "cell_type": "code",
   "execution_count": 28,
   "metadata": {
    "collapsed": true
   },
   "outputs": [],
   "source": [
    "n_subject_split_fn = \"{data_dir}/{data}_split_n_subject.pickle\".format(data_dir=PREPROCESSED_DIRECTORY, data=DATA_ALL)"
   ]
  },
  {
   "cell_type": "code",
   "execution_count": 29,
   "metadata": {
    "collapsed": true
   },
   "outputs": [],
   "source": [
    "with open(n_subject_split_fn, \"wb\") as f:\n",
    "    pickle.dump(n_subject_split, f)"
   ]
  },
  {
   "cell_type": "markdown",
   "metadata": {},
   "source": [
    "# TRAINING"
   ]
  },
  {
   "cell_type": "markdown",
   "metadata": {},
   "source": [
    "#### Initial Cross-Subject Test"
   ]
  },
  {
   "cell_type": "code",
   "execution_count": 14,
   "metadata": {
    "collapsed": false
   },
   "outputs": [],
   "source": [
    "with open(initial_cs_split_fn, \"rb\") as f:\n",
    "    initial_cs_split = pickle.load(f)"
   ]
  },
  {
   "cell_type": "code",
   "execution_count": 16,
   "metadata": {
    "collapsed": false
   },
   "outputs": [],
   "source": [
    "# Tune parameters\n",
    "\n",
    "xgboost_clf = xgb.XGBClassifier(learning_rate=0.3, n_estimators=100, objective=\"multi:softmax\", seed=42)\n",
    "\n",
    "max_depth = [5, 6, 7, 8]\n",
    "gamma = [1, 2, 3]\n",
    "reg_lambda = [1, 2, 3]\n",
    "reg_alpha = [1, 2, 3]\n",
    "subsample = [0.5, 0.8, 1]\n",
    "colsample_bytree = [0.5, 0.8, 1]\n",
    "colsample_bylevel = [0.5, 0.8, 1]\n",
    "\n",
    "xgboost_knobs = {\n",
    "    \"max_depth\": max_depth,\n",
    "    \"gamma\": gamma,\n",
    "    \"reg_lambda\": reg_lambda,\n",
    "    \"reg_alpha\": reg_alpha,\n",
    "    \"subsample\": subsample,\n",
    "    \"colsample_bytree\": colsample_bytree,\n",
    "    \"colsample_bylevel\": colsample_bylevel\n",
    "}\n",
    "\n",
    "initial_cs_train_test_cv = []\n",
    "for train_test in initial_cs_split:\n",
    "    train_indices = all_labels_df[all_labels_df[\"subject\"].isin(train_test[\"train\"])].index.tolist()\n",
    "    test_indices = all_labels_df[all_labels_df[\"subject\"].isin(train_test[\"test\"])].index.tolist()\n",
    "    initial_cs_train_test_cv.append((train_indices, test_indices))\n",
    "\n",
    "initial_cs_params_search = model_selection.RandomizedSearchCV(\n",
    "    xgboost_clf, param_distributions=xgboost_knobs, cv=initial_cs_train_test_cv, n_iter=50, random_state=42, verbose=2, n_jobs=4)"
   ]
  },
  {
   "cell_type": "code",
   "execution_count": 17,
   "metadata": {
    "collapsed": false,
    "scrolled": true
   },
   "outputs": [
    {
     "name": "stdout",
     "output_type": "stream",
     "text": [
      "Fitting 2 folds for each of 50 candidates, totalling 100 fits\n"
     ]
    },
    {
     "name": "stderr",
     "output_type": "stream",
     "text": [
      "[Parallel(n_jobs=4)]: Done  33 tasks      | elapsed: 18.0min\n",
      "[Parallel(n_jobs=4)]: Done 100 out of 100 | elapsed: 51.2min finished\n"
     ]
    },
    {
     "data": {
      "text/plain": [
       "RandomizedSearchCV(cv=[([0, 1, 2, 3, 4, 5, 6, 7, 8, 9, 10, 11, 12, 13, 14, 15, 16, 17, 18, 19, 20, 21, 22, 23, 24, 25, 26, 27, 28, 29, 30, 31, 32, 33, 34, 35, 36, 37, 38, 39, 40, 41, 42, 43, 44, 45, 46, 47, 48, 49, 50, 51, 52, 53, 54, 55, 56, 57, 58, 59, 60, 61, 62, 63, 64, 65, 66, 67, 68, 69, 70, 71, 72, 73, 74, 75, ... 77010, 77011, 77012, 77013, 77014, 77015, 77016, 77017, 77018, 77019, 77020, 77021, 77022, 77023])],\n",
       "          error_score='raise',\n",
       "          estimator=XGBClassifier(base_score=0.5, colsample_bylevel=1, colsample_bytree=1,\n",
       "       gamma=0, learning_rate=0.3, max_delta_step=0, max_depth=3,\n",
       "       min_child_weight=1, missing=None, n_estimators=100, nthread=-1,\n",
       "       objective='multi:softmax', reg_alpha=0, reg_lambda=1,\n",
       "       scale_pos_weight=1, seed=42, silent=True, subsample=1),\n",
       "          fit_params={}, iid=True, n_iter=50, n_jobs=4,\n",
       "          param_distributions={'max_depth': [5, 6, 7, 8], 'gamma': [1, 2, 3], 'reg_lambda': [1, 2, 3], 'reg_alpha': [1, 2, 3], 'subsample': [0.5, 0.8, 1], 'colsample_bytree': [0.5, 0.8, 1], 'colsample_bylevel': [0.5, 0.8, 1]},\n",
       "          pre_dispatch='2*n_jobs', random_state=42, refit=True,\n",
       "          return_train_score=True, scoring=None, verbose=2)"
      ]
     },
     "execution_count": 17,
     "metadata": {},
     "output_type": "execute_result"
    }
   ],
   "source": [
    "initial_cs_params_search.fit(X.values, y.values.ravel())"
   ]
  },
  {
   "cell_type": "code",
   "execution_count": 18,
   "metadata": {
    "collapsed": false
   },
   "outputs": [
    {
     "data": {
      "text/plain": [
       "{'colsample_bylevel': 0.5,\n",
       " 'colsample_bytree': 0.5,\n",
       " 'gamma': 2,\n",
       " 'max_depth': 6,\n",
       " 'reg_alpha': 1,\n",
       " 'reg_lambda': 3,\n",
       " 'subsample': 0.5}"
      ]
     },
     "execution_count": 18,
     "metadata": {},
     "output_type": "execute_result"
    }
   ],
   "source": [
    "initial_cs_params_search.best_params_"
   ]
  },
  {
   "cell_type": "code",
   "execution_count": 19,
   "metadata": {
    "collapsed": false
   },
   "outputs": [],
   "source": [
    "PARAMS = {}\n",
    "PARAMS[\"eta\"] = 0.3\n",
    "PARAMS[\"max_depth\"] = 6\n",
    "PARAMS[\"gamma\"] = 2\n",
    "PARAMS[\"lambda\"] = 3\n",
    "PARAMS[\"alpha\"] = 1\n",
    "PARAMS[\"subsample\"] = 0.5\n",
    "PARAMS[\"colsample_bytree\"] = 0.5\n",
    "PARAMS[\"colsample_bylevel\"] = 0.5\n",
    "PARAMS[\"objective\"] = \"multi:softmax\"\n",
    "PARAMS[\"eval_metric\"] = \"merror\"\n",
    "PARAMS[\"num_class\"] = len(activities_list)\n",
    "PARAMS[\"silent\"] = 0\n",
    "NUM_ROUNDS = 100\n",
    "EARLYSTOPPING_ROUNDS = 30"
   ]
  },
  {
   "cell_type": "code",
   "execution_count": 20,
   "metadata": {
    "collapsed": false
   },
   "outputs": [
    {
     "name": "stdout",
     "output_type": "stream",
     "text": [
      "[0]\ttrain-merror:0.057176\teval-merror:0.270895\n",
      "Multiple eval metrics have been passed: 'eval-merror' will be used for early stopping.\n",
      "\n",
      "Will train until eval-merror hasn't improved in 30 rounds.\n",
      "[1]\ttrain-merror:0.038346\teval-merror:0.231588\n",
      "[2]\ttrain-merror:0.03122\teval-merror:0.221464\n",
      "[3]\ttrain-merror:0.029046\teval-merror:0.192756\n",
      "[4]\ttrain-merror:0.026499\teval-merror:0.185294\n",
      "[5]\ttrain-merror:0.024238\teval-merror:0.183203\n",
      "[6]\ttrain-merror:0.021691\teval-merror:0.172461\n",
      "[7]\ttrain-merror:0.02026\teval-merror:0.171416\n",
      "[8]\ttrain-merror:0.019516\teval-merror:0.16065\n",
      "[9]\ttrain-merror:0.017628\teval-merror:0.163716\n",
      "[10]\ttrain-merror:0.016912\teval-merror:0.159082\n",
      "[11]\ttrain-merror:0.015853\teval-merror:0.156111\n",
      "[12]\ttrain-merror:0.015081\teval-merror:0.148625\n",
      "[13]\ttrain-merror:0.01385\teval-merror:0.141591\n",
      "[14]\ttrain-merror:0.013507\teval-merror:0.1395\n",
      "[15]\ttrain-merror:0.013192\teval-merror:0.137883\n",
      "[16]\ttrain-merror:0.012648\teval-merror:0.131396\n",
      "[17]\ttrain-merror:0.012133\teval-merror:0.131515\n",
      "[18]\ttrain-merror:0.011761\teval-merror:0.132346\n",
      "[19]\ttrain-merror:0.011303\teval-merror:0.128829\n",
      "[20]\ttrain-merror:0.010617\teval-merror:0.127356\n",
      "[21]\ttrain-merror:0.010388\teval-merror:0.127879\n",
      "[22]\ttrain-merror:0.009987\teval-merror:0.125478\n",
      "[23]\ttrain-merror:0.009701\teval-merror:0.121795\n",
      "[24]\ttrain-merror:0.009415\teval-merror:0.118087\n",
      "[25]\ttrain-merror:0.008871\teval-merror:0.11697\n",
      "[26]\ttrain-merror:0.008928\teval-merror:0.116566\n",
      "[27]\ttrain-merror:0.008699\teval-merror:0.112075\n",
      "[28]\ttrain-merror:0.008556\teval-merror:0.111481\n",
      "[29]\ttrain-merror:0.008385\teval-merror:0.109508\n",
      "[30]\ttrain-merror:0.008499\teval-merror:0.108391\n",
      "[31]\ttrain-merror:0.008499\teval-merror:0.109009\n",
      "[32]\ttrain-merror:0.008013\teval-merror:0.108439\n",
      "[33]\ttrain-merror:0.007898\teval-merror:0.107251\n",
      "[34]\ttrain-merror:0.007698\teval-merror:0.104827\n",
      "[35]\ttrain-merror:0.007497\teval-merror:0.103805\n",
      "[36]\ttrain-merror:0.007269\teval-merror:0.104565\n",
      "[37]\ttrain-merror:0.007412\teval-merror:0.104042\n",
      "[38]\ttrain-merror:0.007354\teval-merror:0.10485\n",
      "[39]\ttrain-merror:0.007354\teval-merror:0.10447\n",
      "[40]\ttrain-merror:0.007125\teval-merror:0.102022\n",
      "[41]\ttrain-merror:0.00704\teval-merror:0.103139\n",
      "[42]\ttrain-merror:0.007068\teval-merror:0.104042\n",
      "[43]\ttrain-merror:0.007183\teval-merror:0.104351\n",
      "[44]\ttrain-merror:0.007068\teval-merror:0.104066\n",
      "[45]\ttrain-merror:0.006897\teval-merror:0.105302\n",
      "[46]\ttrain-merror:0.006725\teval-merror:0.103995\n",
      "[47]\ttrain-merror:0.006725\teval-merror:0.104684\n",
      "[48]\ttrain-merror:0.006696\teval-merror:0.10485\n",
      "[49]\ttrain-merror:0.006553\teval-merror:0.104993\n",
      "[50]\ttrain-merror:0.006525\teval-merror:0.105231\n",
      "[51]\ttrain-merror:0.006582\teval-merror:0.104874\n",
      "[52]\ttrain-merror:0.00661\teval-merror:0.106466\n",
      "[53]\ttrain-merror:0.00661\teval-merror:0.106395\n",
      "[54]\ttrain-merror:0.006639\teval-merror:0.107132\n",
      "[55]\ttrain-merror:0.006381\teval-merror:0.108011\n",
      "[56]\ttrain-merror:0.00641\teval-merror:0.106775\n",
      "[57]\ttrain-merror:0.006153\teval-merror:0.106181\n",
      "[58]\ttrain-merror:0.006181\teval-merror:0.104613\n",
      "[59]\ttrain-merror:0.006067\teval-merror:0.104541\n",
      "[60]\ttrain-merror:0.006067\teval-merror:0.103829\n",
      "[61]\ttrain-merror:0.006038\teval-merror:0.103995\n",
      "[62]\ttrain-merror:0.006009\teval-merror:0.103472\n",
      "[63]\ttrain-merror:0.006009\teval-merror:0.102997\n",
      "[64]\ttrain-merror:0.005952\teval-merror:0.102925\n",
      "[65]\ttrain-merror:0.006124\teval-merror:0.104137\n",
      "[66]\ttrain-merror:0.005981\teval-merror:0.104589\n",
      "[67]\ttrain-merror:0.005952\teval-merror:0.104898\n",
      "[68]\ttrain-merror:0.005952\teval-merror:0.104945\n",
      "[69]\ttrain-merror:0.006009\teval-merror:0.105563\n",
      "[70]\ttrain-merror:0.005924\teval-merror:0.105658\n",
      "Stopping. Best iteration:\n",
      "[40]\ttrain-merror:0.007125\teval-merror:0.102022\n",
      "\n",
      "[0]\ttrain-merror:0.067611\teval-merror:0.260152\n",
      "Multiple eval metrics have been passed: 'eval-merror' will be used for early stopping.\n",
      "\n",
      "Will train until eval-merror hasn't improved in 30 rounds.\n",
      "[1]\ttrain-merror:0.041327\teval-merror:0.201889\n",
      "[2]\ttrain-merror:0.034673\teval-merror:0.174531\n",
      "[3]\ttrain-merror:0.030799\teval-merror:0.184776\n",
      "[4]\ttrain-merror:0.028803\teval-merror:0.179568\n",
      "[5]\ttrain-merror:0.02645\teval-merror:0.165317\n",
      "[6]\ttrain-merror:0.02424\teval-merror:0.146201\n",
      "[7]\ttrain-merror:0.022291\teval-merror:0.137473\n",
      "[8]\ttrain-merror:0.021674\teval-merror:0.129003\n",
      "[9]\ttrain-merror:0.020319\teval-merror:0.123308\n",
      "[10]\ttrain-merror:0.019463\teval-merror:0.117127\n",
      "[11]\ttrain-merror:0.019131\teval-merror:0.111833\n",
      "[12]\ttrain-merror:0.017895\teval-merror:0.110173\n",
      "[13]\ttrain-merror:0.017229\teval-merror:0.108714\n",
      "[14]\ttrain-merror:0.016279\teval-merror:0.105394\n",
      "[15]\ttrain-merror:0.015495\teval-merror:0.103191\n",
      "[16]\ttrain-merror:0.015114\teval-merror:0.103334\n",
      "[17]\ttrain-merror:0.014449\teval-merror:0.100072\n",
      "[18]\ttrain-merror:0.01376\teval-merror:0.099413\n",
      "[19]\ttrain-merror:0.013498\teval-merror:0.098269\n",
      "[20]\ttrain-merror:0.013166\teval-merror:0.098097\n",
      "[21]\ttrain-merror:0.012904\teval-merror:0.098583\n",
      "[22]\ttrain-merror:0.012453\teval-merror:0.097839\n",
      "[23]\ttrain-merror:0.012405\teval-merror:0.096151\n",
      "[24]\ttrain-merror:0.011787\teval-merror:0.095121\n",
      "[25]\ttrain-merror:0.011383\teval-merror:0.093118\n",
      "[26]\ttrain-merror:0.011051\teval-merror:0.091286\n",
      "[27]\ttrain-merror:0.010457\teval-merror:0.092317\n",
      "[28]\ttrain-merror:0.0101\teval-merror:0.090857\n",
      "[29]\ttrain-merror:0.009767\teval-merror:0.090828\n",
      "[30]\ttrain-merror:0.009245\teval-merror:0.091315\n",
      "[31]\ttrain-merror:0.009173\teval-merror:0.090886\n",
      "[32]\ttrain-merror:0.008983\teval-merror:0.090972\n",
      "[33]\ttrain-merror:0.008793\teval-merror:0.090227\n",
      "[34]\ttrain-merror:0.008769\teval-merror:0.090142\n",
      "[35]\ttrain-merror:0.008508\teval-merror:0.089598\n",
      "[36]\ttrain-merror:0.008365\teval-merror:0.089312\n",
      "[37]\ttrain-merror:0.008413\teval-merror:0.088883\n",
      "[38]\ttrain-merror:0.00827\teval-merror:0.089226\n",
      "[39]\ttrain-merror:0.008151\teval-merror:0.088625\n",
      "[40]\ttrain-merror:0.008199\teval-merror:0.088453\n",
      "[41]\ttrain-merror:0.008009\teval-merror:0.087366\n",
      "[42]\ttrain-merror:0.00789\teval-merror:0.08791\n",
      "[43]\ttrain-merror:0.0077\teval-merror:0.088253\n",
      "[44]\ttrain-merror:0.007676\teval-merror:0.088825\n",
      "[45]\ttrain-merror:0.007533\teval-merror:0.088511\n",
      "[46]\ttrain-merror:0.007343\teval-merror:0.089255\n",
      "[47]\ttrain-merror:0.007248\teval-merror:0.088854\n",
      "[48]\ttrain-merror:0.007058\teval-merror:0.088739\n",
      "[49]\ttrain-merror:0.006868\teval-merror:0.08831\n",
      "[50]\ttrain-merror:0.006773\teval-merror:0.089369\n",
      "[51]\ttrain-merror:0.006725\teval-merror:0.089512\n",
      "[52]\ttrain-merror:0.006607\teval-merror:0.089455\n",
      "[53]\ttrain-merror:0.006512\teval-merror:0.08977\n",
      "[54]\ttrain-merror:0.006512\teval-merror:0.089913\n",
      "[55]\ttrain-merror:0.00644\teval-merror:0.089798\n",
      "[56]\ttrain-merror:0.00644\teval-merror:0.089569\n",
      "[57]\ttrain-merror:0.00644\teval-merror:0.089598\n",
      "[58]\ttrain-merror:0.006345\teval-merror:0.088768\n",
      "[59]\ttrain-merror:0.006298\teval-merror:0.08894\n",
      "[60]\ttrain-merror:0.006274\teval-merror:0.088654\n",
      "[61]\ttrain-merror:0.006321\teval-merror:0.089226\n",
      "[62]\ttrain-merror:0.006274\teval-merror:0.088968\n",
      "[63]\ttrain-merror:0.006226\teval-merror:0.088453\n",
      "[64]\ttrain-merror:0.006108\teval-merror:0.088482\n",
      "[65]\ttrain-merror:0.006036\teval-merror:0.087995\n",
      "[66]\ttrain-merror:0.005989\teval-merror:0.087795\n",
      "[67]\ttrain-merror:0.006155\teval-merror:0.08728\n",
      "[68]\ttrain-merror:0.006013\teval-merror:0.087509\n",
      "[69]\ttrain-merror:0.005941\teval-merror:0.087509\n",
      "[70]\ttrain-merror:0.005894\teval-merror:0.087824\n",
      "[71]\ttrain-merror:0.005917\teval-merror:0.087995\n",
      "[72]\ttrain-merror:0.005941\teval-merror:0.087852\n",
      "[73]\ttrain-merror:0.005965\teval-merror:0.08791\n",
      "[74]\ttrain-merror:0.005917\teval-merror:0.087881\n",
      "[75]\ttrain-merror:0.005846\teval-merror:0.088081\n",
      "[76]\ttrain-merror:0.005846\teval-merror:0.087824\n",
      "[77]\ttrain-merror:0.005846\teval-merror:0.087824\n",
      "[78]\ttrain-merror:0.005846\teval-merror:0.087108\n",
      "[79]\ttrain-merror:0.005894\teval-merror:0.087423\n",
      "[80]\ttrain-merror:0.005846\teval-merror:0.087251\n",
      "[81]\ttrain-merror:0.00587\teval-merror:0.087166\n",
      "[82]\ttrain-merror:0.00587\teval-merror:0.086536\n",
      "[83]\ttrain-merror:0.005822\teval-merror:0.086908\n",
      "[84]\ttrain-merror:0.005751\teval-merror:0.087108\n",
      "[85]\ttrain-merror:0.005585\teval-merror:0.086879\n",
      "[86]\ttrain-merror:0.005561\teval-merror:0.086937\n",
      "[87]\ttrain-merror:0.005561\teval-merror:0.087022\n",
      "[88]\ttrain-merror:0.005561\teval-merror:0.08708\n",
      "[89]\ttrain-merror:0.005608\teval-merror:0.086965\n",
      "[90]\ttrain-merror:0.005561\teval-merror:0.087366\n",
      "[91]\ttrain-merror:0.005466\teval-merror:0.087394\n",
      "[92]\ttrain-merror:0.005442\teval-merror:0.087595\n",
      "[93]\ttrain-merror:0.005466\teval-merror:0.087709\n",
      "[94]\ttrain-merror:0.005513\teval-merror:0.087795\n",
      "[95]\ttrain-merror:0.00549\teval-merror:0.087938\n",
      "[96]\ttrain-merror:0.005513\teval-merror:0.087852\n",
      "[97]\ttrain-merror:0.005466\teval-merror:0.087824\n",
      "[98]\ttrain-merror:0.00549\teval-merror:0.08791\n",
      "[99]\ttrain-merror:0.005466\teval-merror:0.087995\n"
     ]
    }
   ],
   "source": [
    "# Find best iteration by early stopping\n",
    "\n",
    "init_cs_results = []\n",
    "\n",
    "for train_test in initial_cs_split:\n",
    "    train_indices = all_labels_df[all_labels_df[\"subject\"].isin(train_test[\"train\"])].index.tolist()\n",
    "    test_indices = all_labels_df[all_labels_df[\"subject\"].isin(train_test[\"test\"])].index.tolist()\n",
    "    \n",
    "    X_train = X.iloc[train_indices]\n",
    "    X_test = X.iloc[test_indices]\n",
    "    y_train = y.iloc[train_indices]\n",
    "    y_test = y.iloc[test_indices]\n",
    "    \n",
    "    train_dmatrix = xgb.DMatrix(X_train, y_train)\n",
    "    test_dmatrix = xgb.DMatrix(X_test, y_test)\n",
    "    watchlist = [(train_dmatrix, \"train\"), (test_dmatrix, \"eval\")]\n",
    "    results = {}\n",
    "    \n",
    "    xgb.train(params=PARAMS, dtrain=train_dmatrix, num_boost_round=NUM_ROUNDS, evals=watchlist, evals_result=results,\n",
    "                early_stopping_rounds=EARLYSTOPPING_ROUNDS)\n",
    "    \n",
    "    init_cs_results.append(results[\"eval\"][\"merror\"])"
   ]
  },
  {
   "cell_type": "code",
   "execution_count": 21,
   "metadata": {
    "collapsed": true
   },
   "outputs": [],
   "source": [
    "# Average across results\n",
    "\n",
    "init_cs_results_avg = [(x + y) / 2 for (x, y) in zip(*init_cs_results)]\n",
    "\n",
    "init_cs_min_error = init_cs_results_avg[0]\n",
    "init_cs_best_iter = 0\n",
    "init_cs_early_stopping = 0\n",
    "for i, error in enumerate(init_cs_results_avg):\n",
    "    if error <= init_cs_min_error:\n",
    "        init_cs_min_error = error\n",
    "        init_cs_best_iter = i + 1\n",
    "        init_cs_early_stopping = 1\n",
    "    else:\n",
    "        init_cs_early_stopping += 1\n",
    "    if init_cs_early_stopping == 30:\n",
    "        break"
   ]
  },
  {
   "cell_type": "code",
   "execution_count": 22,
   "metadata": {
    "collapsed": false
   },
   "outputs": [],
   "source": [
    "# Train Booster\n",
    "\n",
    "init_cs_booster = xgb.train(params=PARAMS, dtrain=X_all, num_boost_round=init_cs_best_iter)"
   ]
  },
  {
   "cell_type": "code",
   "execution_count": 24,
   "metadata": {
    "collapsed": false
   },
   "outputs": [
    {
     "data": {
      "text/plain": [
       "41"
      ]
     },
     "execution_count": 24,
     "metadata": {},
     "output_type": "execute_result"
    }
   ],
   "source": [
    "init_cs_best_iter"
   ]
  },
  {
   "cell_type": "code",
   "execution_count": 25,
   "metadata": {
    "collapsed": true
   },
   "outputs": [],
   "source": [
    "# Save model\n",
    "\n",
    "init_cs_booster.save_model(\"init_cs.model\")"
   ]
  },
  {
   "cell_type": "code",
   "execution_count": 26,
   "metadata": {
    "collapsed": false
   },
   "outputs": [
    {
     "data": {
      "text/plain": [
       "0.99078209389281258"
      ]
     },
     "execution_count": 26,
     "metadata": {},
     "output_type": "execute_result"
    }
   ],
   "source": [
    "# Test accuracy\n",
    "\n",
    "y_predicted = init_cs_booster.predict(X_all)\n",
    "accuracy = metrics.accuracy_score(y, y_predicted)\n",
    "accuracy"
   ]
  },
  {
   "cell_type": "markdown",
   "metadata": {},
   "source": [
    "#### Complete Cross-Subject Test"
   ]
  },
  {
   "cell_type": "code",
   "execution_count": 25,
   "metadata": {
    "collapsed": true
   },
   "outputs": [],
   "source": [
    "with open(complete_cs_split_fn, \"rb\") as f:\n",
    "    complete_cs_split = pickle.load(f)"
   ]
  },
  {
   "cell_type": "code",
   "execution_count": 40,
   "metadata": {
    "collapsed": true
   },
   "outputs": [],
   "source": [
    "# Save intermediate results\n",
    "\n",
    "complete_cs_results_csv = \"results/complete_cs.csv\"\n",
    "open(complete_cs_results_csv, \"w\").close()\n",
    "with open(complete_cs_results_csv, \"a\") as f:\n",
    "    complete_cs_results_pdf = pd.DataFrame(columns=[\"train_index\", \"tree\", \"error\"])\n",
    "    complete_cs_results_pdf.to_csv(f, header=True, index=False)"
   ]
  },
  {
   "cell_type": "code",
   "execution_count": 41,
   "metadata": {
    "collapsed": false,
    "scrolled": true
   },
   "outputs": [
    {
     "name": "stdout",
     "output_type": "stream",
     "text": [
      "[0]\ttrain-merror:0.04838\teval-merror:0.338531\n",
      "[1]\ttrain-merror:0.032147\teval-merror:0.310103\n",
      "[2]\ttrain-merror:0.025436\teval-merror:0.271463\n",
      "[3]\ttrain-merror:0.022592\teval-merror:0.259545\n",
      "[4]\ttrain-merror:0.021665\teval-merror:0.243407\n",
      "[5]\ttrain-merror:0.019525\teval-merror:0.235141\n",
      "[6]\ttrain-merror:0.01831\teval-merror:0.226285\n",
      "[7]\ttrain-merror:0.016968\teval-merror:0.225716\n",
      "[8]\ttrain-merror:0.015722\teval-merror:0.224185\n",
      "[9]\ttrain-merror:0.014699\teval-merror:0.225038\n",
      "[10]\ttrain-merror:0.013677\teval-merror:0.219287\n",
      "[11]\ttrain-merror:0.012686\teval-merror:0.212049\n",
      "[12]\ttrain-merror:0.011664\teval-merror:0.211284\n",
      "[13]\ttrain-merror:0.010897\teval-merror:0.205248\n",
      "[14]\ttrain-merror:0.010321\teval-merror:0.202887\n",
      "[15]\ttrain-merror:0.009459\teval-merror:0.20422\n",
      "[16]\ttrain-merror:0.008915\teval-merror:0.205904\n",
      "[17]\ttrain-merror:0.008244\teval-merror:0.201137\n",
      "[18]\ttrain-merror:0.007637\teval-merror:0.200197\n",
      "[19]\ttrain-merror:0.007062\teval-merror:0.199759\n",
      "[20]\ttrain-merror:0.006487\teval-merror:0.198579\n",
      "[21]\ttrain-merror:0.005688\teval-merror:0.196567\n",
      "[22]\ttrain-merror:0.005496\teval-merror:0.194008\n",
      "[23]\ttrain-merror:0.005145\teval-merror:0.193134\n",
      "[24]\ttrain-merror:0.00441\teval-merror:0.19075\n",
      "[25]\ttrain-merror:0.00425\teval-merror:0.189963\n",
      "[26]\ttrain-merror:0.00393\teval-merror:0.192499\n",
      "[27]\ttrain-merror:0.003579\teval-merror:0.192018\n",
      "[28]\ttrain-merror:0.003579\teval-merror:0.192281\n",
      "[29]\ttrain-merror:0.003164\teval-merror:0.190903\n",
      "[30]\ttrain-merror:0.0031\teval-merror:0.190072\n",
      "[31]\ttrain-merror:0.002812\teval-merror:0.189832\n",
      "[32]\ttrain-merror:0.002588\teval-merror:0.189219\n",
      "[33]\ttrain-merror:0.002588\teval-merror:0.191931\n",
      "[34]\ttrain-merror:0.00262\teval-merror:0.189547\n",
      "[35]\ttrain-merror:0.002461\teval-merror:0.188935\n",
      "[36]\ttrain-merror:0.002365\teval-merror:0.186901\n",
      "[37]\ttrain-merror:0.002141\teval-merror:0.187798\n",
      "[38]\ttrain-merror:0.002173\teval-merror:0.188498\n",
      "[39]\ttrain-merror:0.002045\teval-merror:0.191712\n",
      "[40]\ttrain-merror:0.001949\teval-merror:0.18981\n",
      "[41]\ttrain-merror:0.001821\teval-merror:0.188563\n",
      "[42]\ttrain-merror:0.001726\teval-merror:0.188869\n",
      "[43]\ttrain-merror:0.001662\teval-merror:0.189394\n",
      "[44]\ttrain-merror:0.001598\teval-merror:0.187754\n",
      "[45]\ttrain-merror:0.001502\teval-merror:0.187557\n",
      "[46]\ttrain-merror:0.00147\teval-merror:0.187579\n",
      "[47]\ttrain-merror:0.00147\teval-merror:0.187404\n",
      "[48]\ttrain-merror:0.00147\teval-merror:0.185939\n",
      "[49]\ttrain-merror:0.001438\teval-merror:0.186355\n",
      "[50]\ttrain-merror:0.00147\teval-merror:0.185065\n",
      "[51]\ttrain-merror:0.001438\teval-merror:0.185349\n",
      "[52]\ttrain-merror:0.001406\teval-merror:0.184255\n",
      "[53]\ttrain-merror:0.001406\teval-merror:0.183709\n",
      "[54]\ttrain-merror:0.001406\teval-merror:0.184649\n",
      "[55]\ttrain-merror:0.001342\teval-merror:0.183818\n",
      "[56]\ttrain-merror:0.001278\teval-merror:0.183949\n",
      "[57]\ttrain-merror:0.001374\teval-merror:0.183665\n",
      "[58]\ttrain-merror:0.001246\teval-merror:0.181719\n",
      "[59]\ttrain-merror:0.001118\teval-merror:0.182965\n",
      "[60]\ttrain-merror:0.001086\teval-merror:0.183184\n",
      "[61]\ttrain-merror:0.001086\teval-merror:0.182528\n",
      "[62]\ttrain-merror:0.001055\teval-merror:0.183031\n",
      "[63]\ttrain-merror:0.001055\teval-merror:0.183578\n",
      "[64]\ttrain-merror:0.001023\teval-merror:0.18255\n",
      "[65]\ttrain-merror:0.000991\teval-merror:0.182572\n",
      "[66]\ttrain-merror:0.000991\teval-merror:0.1829\n",
      "[67]\ttrain-merror:0.000831\teval-merror:0.18126\n",
      "[68]\ttrain-merror:0.000895\teval-merror:0.181281\n",
      "[69]\ttrain-merror:0.000927\teval-merror:0.181609\n",
      "[70]\ttrain-merror:0.000895\teval-merror:0.181741\n",
      "[71]\ttrain-merror:0.000863\teval-merror:0.181763\n",
      "[72]\ttrain-merror:0.000863\teval-merror:0.181719\n",
      "[73]\ttrain-merror:0.000863\teval-merror:0.181763\n",
      "[74]\ttrain-merror:0.000895\teval-merror:0.181631\n",
      "[75]\ttrain-merror:0.000863\teval-merror:0.182047\n",
      "[76]\ttrain-merror:0.000767\teval-merror:0.182659\n",
      "[77]\ttrain-merror:0.000767\teval-merror:0.181325\n",
      "[78]\ttrain-merror:0.000767\teval-merror:0.181281\n",
      "[79]\ttrain-merror:0.000799\teval-merror:0.181435\n",
      "[80]\ttrain-merror:0.000767\teval-merror:0.180538\n",
      "[81]\ttrain-merror:0.000767\teval-merror:0.180319\n",
      "[82]\ttrain-merror:0.000831\teval-merror:0.180297\n",
      "[83]\ttrain-merror:0.000831\teval-merror:0.181544\n",
      "[84]\ttrain-merror:0.000831\teval-merror:0.181588\n",
      "[85]\ttrain-merror:0.000895\teval-merror:0.180276\n",
      "[86]\ttrain-merror:0.000863\teval-merror:0.179926\n",
      "[87]\ttrain-merror:0.000831\teval-merror:0.179401\n",
      "[88]\ttrain-merror:0.000767\teval-merror:0.178963\n",
      "[89]\ttrain-merror:0.000799\teval-merror:0.178723\n",
      "[90]\ttrain-merror:0.000799\teval-merror:0.17881\n",
      "[91]\ttrain-merror:0.000735\teval-merror:0.178439\n",
      "[92]\ttrain-merror:0.000799\teval-merror:0.178329\n",
      "[93]\ttrain-merror:0.000799\teval-merror:0.178592\n",
      "[94]\ttrain-merror:0.000735\teval-merror:0.179138\n",
      "[95]\ttrain-merror:0.000735\teval-merror:0.180516\n",
      "[96]\ttrain-merror:0.000767\teval-merror:0.180385\n",
      "[97]\ttrain-merror:0.000703\teval-merror:0.181106\n",
      "[98]\ttrain-merror:0.000671\teval-merror:0.181128\n",
      "[99]\ttrain-merror:0.000703\teval-merror:0.180538\n",
      "[0]\ttrain-merror:0.044366\teval-merror:0.286063\n",
      "[1]\ttrain-merror:0.028631\teval-merror:0.241893\n",
      "[2]\ttrain-merror:0.025023\teval-merror:0.240364\n",
      "[3]\ttrain-merror:0.022517\teval-merror:0.2506\n",
      "[4]\ttrain-merror:0.021014\teval-merror:0.230362\n",
      "[5]\ttrain-merror:0.01951\teval-merror:0.221911\n",
      "[6]\ttrain-merror:0.018374\teval-merror:0.226094\n",
      "[7]\ttrain-merror:0.016904\teval-merror:0.239154\n",
      "[8]\ttrain-merror:0.015468\teval-merror:0.234355\n",
      "[9]\ttrain-merror:0.014165\teval-merror:0.23788\n",
      "[10]\ttrain-merror:0.012929\teval-merror:0.236712\n",
      "[11]\ttrain-merror:0.012094\teval-merror:0.231212\n",
      "[12]\ttrain-merror:0.010891\teval-merror:0.234079\n",
      "[13]\ttrain-merror:0.010323\teval-merror:0.224544\n",
      "[14]\ttrain-merror:0.009555\teval-merror:0.223886\n",
      "[15]\ttrain-merror:0.008786\teval-merror:0.220722\n",
      "[16]\ttrain-merror:0.008152\teval-merror:0.221847\n",
      "[17]\ttrain-merror:0.00765\teval-merror:0.223673\n",
      "[18]\ttrain-merror:0.007183\teval-merror:0.219299\n",
      "[19]\ttrain-merror:0.006581\teval-merror:0.220488\n",
      "[20]\ttrain-merror:0.006114\teval-merror:0.21881\n",
      "[21]\ttrain-merror:0.005846\teval-merror:0.218917\n",
      "[22]\ttrain-merror:0.005212\teval-merror:0.219108\n",
      "[23]\ttrain-merror:0.005045\teval-merror:0.215752\n",
      "[24]\ttrain-merror:0.004577\teval-merror:0.217919\n",
      "[25]\ttrain-merror:0.004677\teval-merror:0.214861\n",
      "[26]\ttrain-merror:0.004009\teval-merror:0.21227\n",
      "[27]\ttrain-merror:0.003909\teval-merror:0.211675\n",
      "[28]\ttrain-merror:0.003775\teval-merror:0.210295\n",
      "[29]\ttrain-merror:0.003474\teval-merror:0.208214\n",
      "[30]\ttrain-merror:0.003374\teval-merror:0.207386\n",
      "[31]\ttrain-merror:0.003274\teval-merror:0.203542\n",
      "[32]\ttrain-merror:0.00304\teval-merror:0.203563\n",
      "[33]\ttrain-merror:0.00284\teval-merror:0.201801\n",
      "[34]\ttrain-merror:0.002873\teval-merror:0.199826\n",
      "[35]\ttrain-merror:0.002739\teval-merror:0.199274\n",
      "[36]\ttrain-merror:0.002506\teval-merror:0.201334\n",
      "[37]\ttrain-merror:0.002439\teval-merror:0.202098\n",
      "[38]\ttrain-merror:0.002205\teval-merror:0.203308\n",
      "[39]\ttrain-merror:0.002004\teval-merror:0.201737\n",
      "[40]\ttrain-merror:0.002071\teval-merror:0.202119\n",
      "[41]\ttrain-merror:0.002004\teval-merror:0.202183\n",
      "[42]\ttrain-merror:0.001904\teval-merror:0.202502\n",
      "[43]\ttrain-merror:0.001737\teval-merror:0.202417\n",
      "[44]\ttrain-merror:0.001637\teval-merror:0.199635\n",
      "[45]\ttrain-merror:0.001604\teval-merror:0.197702\n",
      "[46]\ttrain-merror:0.001637\teval-merror:0.19628\n",
      "[47]\ttrain-merror:0.001637\teval-merror:0.196152\n",
      "[48]\ttrain-merror:0.00167\teval-merror:0.196959\n",
      "[49]\ttrain-merror:0.00157\teval-merror:0.197978\n",
      "[50]\ttrain-merror:0.001537\teval-merror:0.199805\n",
      "[51]\ttrain-merror:0.001437\teval-merror:0.199656\n",
      "[52]\ttrain-merror:0.001403\teval-merror:0.199422\n",
      "[53]\ttrain-merror:0.00137\teval-merror:0.197193\n",
      "[54]\ttrain-merror:0.00127\teval-merror:0.198892\n",
      "[55]\ttrain-merror:0.001336\teval-merror:0.197809\n",
      "[56]\ttrain-merror:0.00127\teval-merror:0.197639\n",
      "[57]\ttrain-merror:0.00127\teval-merror:0.198424\n",
      "[58]\ttrain-merror:0.001336\teval-merror:0.19955\n",
      "[59]\ttrain-merror:0.001203\teval-merror:0.198\n",
      "[60]\ttrain-merror:0.001236\teval-merror:0.198594\n",
      "[61]\ttrain-merror:0.001169\teval-merror:0.198531\n",
      "[62]\ttrain-merror:0.001136\teval-merror:0.198233\n",
      "[63]\ttrain-merror:0.001136\teval-merror:0.198637\n",
      "[64]\ttrain-merror:0.001102\teval-merror:0.198042\n",
      "[65]\ttrain-merror:0.001102\teval-merror:0.197893\n",
      "[66]\ttrain-merror:0.001069\teval-merror:0.197617\n",
      "[67]\ttrain-merror:0.001036\teval-merror:0.197809\n",
      "[68]\ttrain-merror:0.001036\teval-merror:0.198594\n",
      "[69]\ttrain-merror:0.001002\teval-merror:0.198361\n",
      "[70]\ttrain-merror:0.001036\teval-merror:0.199507\n",
      "[71]\ttrain-merror:0.001036\teval-merror:0.19938\n",
      "[72]\ttrain-merror:0.001069\teval-merror:0.200293\n",
      "[73]\ttrain-merror:0.001002\teval-merror:0.20299\n",
      "[74]\ttrain-merror:0.001002\teval-merror:0.20282\n",
      "[75]\ttrain-merror:0.001002\teval-merror:0.202714\n",
      "[76]\ttrain-merror:0.001002\teval-merror:0.201695\n",
      "[77]\ttrain-merror:0.001002\teval-merror:0.201843\n",
      "[78]\ttrain-merror:0.001036\teval-merror:0.201673\n",
      "[79]\ttrain-merror:0.001002\teval-merror:0.201397\n",
      "[80]\ttrain-merror:0.001036\teval-merror:0.202374\n",
      "[81]\ttrain-merror:0.001036\teval-merror:0.202459\n",
      "[82]\ttrain-merror:0.001002\teval-merror:0.202395\n",
      "[83]\ttrain-merror:0.001002\teval-merror:0.202162\n",
      "[84]\ttrain-merror:0.000935\teval-merror:0.203032\n",
      "[85]\ttrain-merror:0.000969\teval-merror:0.203308\n",
      "[86]\ttrain-merror:0.000935\teval-merror:0.203011\n",
      "[87]\ttrain-merror:0.001002\teval-merror:0.201843\n",
      "[88]\ttrain-merror:0.001002\teval-merror:0.201737\n",
      "[89]\ttrain-merror:0.001002\teval-merror:0.201376\n",
      "[90]\ttrain-merror:0.000969\teval-merror:0.202714\n",
      "[91]\ttrain-merror:0.000869\teval-merror:0.204774\n",
      "[92]\ttrain-merror:0.000902\teval-merror:0.204774\n",
      "[93]\ttrain-merror:0.000902\teval-merror:0.205029\n",
      "[94]\ttrain-merror:0.000935\teval-merror:0.205708\n",
      "[95]\ttrain-merror:0.001002\teval-merror:0.204264\n",
      "[96]\ttrain-merror:0.001002\teval-merror:0.204179\n",
      "[97]\ttrain-merror:0.000969\teval-merror:0.203861\n",
      "[98]\ttrain-merror:0.000969\teval-merror:0.202884\n",
      "[99]\ttrain-merror:0.000935\teval-merror:0.202502\n"
     ]
    }
   ],
   "source": [
    "# Find best iteration\n",
    "\n",
    "for train_index, train_test in enumerate(complete_cs_split):\n",
    "    train_indices = all_labels_df[all_labels_df[\"subject\"].isin(train_test[\"train\"])].index.tolist()\n",
    "    test_indices = all_labels_df[all_labels_df[\"subject\"].isin(train_test[\"test\"])].index.tolist()\n",
    "    \n",
    "    X_train = X.iloc[train_indices]\n",
    "    X_test = X.iloc[test_indices]\n",
    "    y_train = y.iloc[train_indices]\n",
    "    y_test = y.iloc[test_indices]\n",
    "    \n",
    "    train_dmatrix = xgb.DMatrix(X_train, y_train)\n",
    "    test_dmatrix = xgb.DMatrix(X_test, y_test)\n",
    "    watchlist = [(train_dmatrix, \"train\"), (test_dmatrix, \"eval\")]\n",
    "    results = {}\n",
    "    \n",
    "    complete_cs_booster = xgb.train(params=PARAMS, dtrain=train_dmatrix, num_boost_round=NUM_ROUNDS, evals=watchlist, evals_result=results)\n",
    "    results_df = pd.DataFrame(columns=[\"train_index\", \"tree\", \"error\"])\n",
    "    for tree, error in enumerate(results[\"eval\"][\"merror\"]):\n",
    "        results_df.loc[tree] = [train_index, tree, error]\n",
    "    \n",
    "    with open(complete_cs_results_csv, \"a\") as f:\n",
    "        results_df.to_csv(f, header=False, index=False)\n",
    "        \n",
    "    if train_index == 1:\n",
    "        break"
   ]
  }
 ],
 "metadata": {
  "kernelspec": {
   "display_name": "Python 3",
   "language": "python",
   "name": "python3"
  },
  "language_info": {
   "codemirror_mode": {
    "name": "ipython",
    "version": 3
   },
   "file_extension": ".py",
   "mimetype": "text/x-python",
   "name": "python",
   "nbconvert_exporter": "python",
   "pygments_lexer": "ipython3",
   "version": "3.6.0"
  }
 },
 "nbformat": 4,
 "nbformat_minor": 2
}

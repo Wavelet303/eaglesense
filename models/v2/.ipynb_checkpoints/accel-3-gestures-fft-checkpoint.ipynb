{
 "cells": [
  {
   "cell_type": "code",
   "execution_count": 1,
   "metadata": {},
   "outputs": [],
   "source": [
    "%matplotlib inline\n",
    "\n",
    "import math\n",
    "import copy\n",
    "import numpy as np\n",
    "from scipy import stats\n",
    "from itertools import permutations\n",
    "import pandas as pd\n",
    "import matplotlib as mpl\n",
    "import matplotlib.pyplot as plt\n",
    "import seaborn as sns\n",
    "from scipy.spatial.distance import euclidean\n",
    "from fastdtw import fastdtw\n",
    "from sklearn import neighbors\n",
    "from sklearn import svm\n",
    "from sklearn.ensemble import RandomForestClassifier, GradientBoostingClassifier\n",
    "from sklearn.naive_bayes import GaussianNB\n",
    "from sklearn.model_selection import train_test_split, StratifiedShuffleSplit, learning_curve\n",
    "from sklearn.metrics import accuracy_score, f1_score, precision_score, recall_score\n",
    "import xgboost as xgb\n",
    "import pickle"
   ]
  },
  {
   "cell_type": "code",
   "execution_count": null,
   "metadata": {},
   "outputs": [],
   "source": [
    "import keras"
   ]
  },
  {
   "cell_type": "code",
   "execution_count": 2,
   "metadata": {},
   "outputs": [],
   "source": [
    "sensor_data_39 = pd.read_csv(\"D:\\\\p_eaglesense\\\\eaglesense\\\\data\\\\topviewkinect\\\\3039\\\\android_sensor_data.csv\")"
   ]
  },
  {
   "cell_type": "code",
   "execution_count": 3,
   "metadata": {},
   "outputs": [],
   "source": [
    "sensor_data_41 = pd.read_csv(\"D:\\\\p_eaglesense\\\\eaglesense\\\\data\\\\topviewkinect\\\\3041\\\\android_sensor_data.csv\")"
   ]
  },
  {
   "cell_type": "code",
   "execution_count": 4,
   "metadata": {},
   "outputs": [
    {
     "data": {
      "text/html": [
       "<div>\n",
       "<style>\n",
       "    .dataframe thead tr:only-child th {\n",
       "        text-align: right;\n",
       "    }\n",
       "\n",
       "    .dataframe thead th {\n",
       "        text-align: left;\n",
       "    }\n",
       "\n",
       "    .dataframe tbody tr th {\n",
       "        vertical-align: top;\n",
       "    }\n",
       "</style>\n",
       "<table border=\"1\" class=\"dataframe\">\n",
       "  <thead>\n",
       "    <tr style=\"text-align: right;\">\n",
       "      <th></th>\n",
       "      <th>frame_id</th>\n",
       "      <th>depth_time</th>\n",
       "      <th>addr</th>\n",
       "      <th>time</th>\n",
       "      <th>accel_x</th>\n",
       "      <th>accel_y</th>\n",
       "      <th>accel_z</th>\n",
       "      <th>gyro_x</th>\n",
       "      <th>gyro_y</th>\n",
       "      <th>gyro_z</th>\n",
       "      <th>...</th>\n",
       "      <th>linear_accel_x</th>\n",
       "      <th>linear_accel_y</th>\n",
       "      <th>linear_accel_z</th>\n",
       "      <th>gravity_x</th>\n",
       "      <th>gravity_y</th>\n",
       "      <th>gravity_z</th>\n",
       "      <th>rotation_x</th>\n",
       "      <th>rotation_y</th>\n",
       "      <th>rotation_z</th>\n",
       "      <th>label</th>\n",
       "    </tr>\n",
       "  </thead>\n",
       "  <tbody>\n",
       "    <tr>\n",
       "      <th>0</th>\n",
       "      <td>0</td>\n",
       "      <td>0</td>\n",
       "      <td>10.32.114.115:38932</td>\n",
       "      <td>0.00000</td>\n",
       "      <td>-0.13</td>\n",
       "      <td>0.128</td>\n",
       "      <td>9.758</td>\n",
       "      <td>0.0</td>\n",
       "      <td>8978685.0</td>\n",
       "      <td>0.0</td>\n",
       "      <td>...</td>\n",
       "      <td>0.0</td>\n",
       "      <td>0.0</td>\n",
       "      <td>0.0</td>\n",
       "      <td>6.595770e+12</td>\n",
       "      <td>0.0</td>\n",
       "      <td>50549.5625</td>\n",
       "      <td>0.0</td>\n",
       "      <td>50552.78125</td>\n",
       "      <td>0.0</td>\n",
       "      <td>0</td>\n",
       "    </tr>\n",
       "    <tr>\n",
       "      <th>1</th>\n",
       "      <td>0</td>\n",
       "      <td>0</td>\n",
       "      <td>10.32.114.115:38932</td>\n",
       "      <td>0.00482</td>\n",
       "      <td>-0.13</td>\n",
       "      <td>0.128</td>\n",
       "      <td>9.758</td>\n",
       "      <td>0.0</td>\n",
       "      <td>8978685.0</td>\n",
       "      <td>0.0</td>\n",
       "      <td>...</td>\n",
       "      <td>0.0</td>\n",
       "      <td>0.0</td>\n",
       "      <td>0.0</td>\n",
       "      <td>6.595770e+12</td>\n",
       "      <td>0.0</td>\n",
       "      <td>50549.5625</td>\n",
       "      <td>0.0</td>\n",
       "      <td>50552.78125</td>\n",
       "      <td>0.0</td>\n",
       "      <td>0</td>\n",
       "    </tr>\n",
       "    <tr>\n",
       "      <th>2</th>\n",
       "      <td>0</td>\n",
       "      <td>0</td>\n",
       "      <td>10.32.114.115:38932</td>\n",
       "      <td>0.00961</td>\n",
       "      <td>-0.13</td>\n",
       "      <td>0.128</td>\n",
       "      <td>9.758</td>\n",
       "      <td>0.0</td>\n",
       "      <td>8978685.0</td>\n",
       "      <td>0.0</td>\n",
       "      <td>...</td>\n",
       "      <td>0.0</td>\n",
       "      <td>0.0</td>\n",
       "      <td>0.0</td>\n",
       "      <td>6.595770e+12</td>\n",
       "      <td>0.0</td>\n",
       "      <td>50549.5625</td>\n",
       "      <td>0.0</td>\n",
       "      <td>50552.78125</td>\n",
       "      <td>0.0</td>\n",
       "      <td>0</td>\n",
       "    </tr>\n",
       "    <tr>\n",
       "      <th>3</th>\n",
       "      <td>0</td>\n",
       "      <td>0</td>\n",
       "      <td>10.32.114.115:38932</td>\n",
       "      <td>0.01348</td>\n",
       "      <td>-0.13</td>\n",
       "      <td>0.128</td>\n",
       "      <td>9.758</td>\n",
       "      <td>0.0</td>\n",
       "      <td>8978685.0</td>\n",
       "      <td>0.0</td>\n",
       "      <td>...</td>\n",
       "      <td>0.0</td>\n",
       "      <td>0.0</td>\n",
       "      <td>0.0</td>\n",
       "      <td>6.595770e+12</td>\n",
       "      <td>0.0</td>\n",
       "      <td>50549.5625</td>\n",
       "      <td>0.0</td>\n",
       "      <td>50552.78125</td>\n",
       "      <td>0.0</td>\n",
       "      <td>0</td>\n",
       "    </tr>\n",
       "    <tr>\n",
       "      <th>4</th>\n",
       "      <td>0</td>\n",
       "      <td>0</td>\n",
       "      <td>10.32.114.115:38932</td>\n",
       "      <td>0.01831</td>\n",
       "      <td>-0.13</td>\n",
       "      <td>0.128</td>\n",
       "      <td>9.758</td>\n",
       "      <td>0.0</td>\n",
       "      <td>8978685.0</td>\n",
       "      <td>0.0</td>\n",
       "      <td>...</td>\n",
       "      <td>0.0</td>\n",
       "      <td>0.0</td>\n",
       "      <td>0.0</td>\n",
       "      <td>6.595770e+12</td>\n",
       "      <td>0.0</td>\n",
       "      <td>50549.5625</td>\n",
       "      <td>0.0</td>\n",
       "      <td>50552.78125</td>\n",
       "      <td>0.0</td>\n",
       "      <td>0</td>\n",
       "    </tr>\n",
       "  </tbody>\n",
       "</table>\n",
       "<p>5 rows × 23 columns</p>\n",
       "</div>"
      ],
      "text/plain": [
       "   frame_id  depth_time                 addr     time  accel_x  accel_y  \\\n",
       "0         0           0  10.32.114.115:38932  0.00000    -0.13    0.128   \n",
       "1         0           0  10.32.114.115:38932  0.00482    -0.13    0.128   \n",
       "2         0           0  10.32.114.115:38932  0.00961    -0.13    0.128   \n",
       "3         0           0  10.32.114.115:38932  0.01348    -0.13    0.128   \n",
       "4         0           0  10.32.114.115:38932  0.01831    -0.13    0.128   \n",
       "\n",
       "   accel_z  gyro_x     gyro_y  gyro_z  ...    linear_accel_x  linear_accel_y  \\\n",
       "0    9.758     0.0  8978685.0     0.0  ...               0.0             0.0   \n",
       "1    9.758     0.0  8978685.0     0.0  ...               0.0             0.0   \n",
       "2    9.758     0.0  8978685.0     0.0  ...               0.0             0.0   \n",
       "3    9.758     0.0  8978685.0     0.0  ...               0.0             0.0   \n",
       "4    9.758     0.0  8978685.0     0.0  ...               0.0             0.0   \n",
       "\n",
       "   linear_accel_z     gravity_x  gravity_y   gravity_z  rotation_x  \\\n",
       "0             0.0  6.595770e+12        0.0  50549.5625         0.0   \n",
       "1             0.0  6.595770e+12        0.0  50549.5625         0.0   \n",
       "2             0.0  6.595770e+12        0.0  50549.5625         0.0   \n",
       "3             0.0  6.595770e+12        0.0  50549.5625         0.0   \n",
       "4             0.0  6.595770e+12        0.0  50549.5625         0.0   \n",
       "\n",
       "    rotation_y  rotation_z  label  \n",
       "0  50552.78125         0.0      0  \n",
       "1  50552.78125         0.0      0  \n",
       "2  50552.78125         0.0      0  \n",
       "3  50552.78125         0.0      0  \n",
       "4  50552.78125         0.0      0  \n",
       "\n",
       "[5 rows x 23 columns]"
      ]
     },
     "execution_count": 4,
     "metadata": {},
     "output_type": "execute_result"
    }
   ],
   "source": [
    "sensor_data_39.head()"
   ]
  },
  {
   "cell_type": "code",
   "execution_count": 5,
   "metadata": {},
   "outputs": [
    {
     "data": {
      "text/html": [
       "<div>\n",
       "<style>\n",
       "    .dataframe thead tr:only-child th {\n",
       "        text-align: right;\n",
       "    }\n",
       "\n",
       "    .dataframe thead th {\n",
       "        text-align: left;\n",
       "    }\n",
       "\n",
       "    .dataframe tbody tr th {\n",
       "        vertical-align: top;\n",
       "    }\n",
       "</style>\n",
       "<table border=\"1\" class=\"dataframe\">\n",
       "  <thead>\n",
       "    <tr style=\"text-align: right;\">\n",
       "      <th></th>\n",
       "      <th>frame_id</th>\n",
       "      <th>depth_time</th>\n",
       "      <th>addr</th>\n",
       "      <th>time</th>\n",
       "      <th>accel_x</th>\n",
       "      <th>accel_y</th>\n",
       "      <th>accel_z</th>\n",
       "      <th>gyro_x</th>\n",
       "      <th>gyro_y</th>\n",
       "      <th>gyro_z</th>\n",
       "      <th>...</th>\n",
       "      <th>linear_accel_x</th>\n",
       "      <th>linear_accel_y</th>\n",
       "      <th>linear_accel_z</th>\n",
       "      <th>gravity_x</th>\n",
       "      <th>gravity_y</th>\n",
       "      <th>gravity_z</th>\n",
       "      <th>rotation_x</th>\n",
       "      <th>rotation_y</th>\n",
       "      <th>rotation_z</th>\n",
       "      <th>label</th>\n",
       "    </tr>\n",
       "  </thead>\n",
       "  <tbody>\n",
       "    <tr>\n",
       "      <th>0</th>\n",
       "      <td>0</td>\n",
       "      <td>0</td>\n",
       "      <td>10.32.114.115:50125</td>\n",
       "      <td>0.00476</td>\n",
       "      <td>-0.090</td>\n",
       "      <td>0.131</td>\n",
       "      <td>9.725</td>\n",
       "      <td>0.000</td>\n",
       "      <td>0.002</td>\n",
       "      <td>0.001</td>\n",
       "      <td>...</td>\n",
       "      <td>-0.013</td>\n",
       "      <td>-0.011</td>\n",
       "      <td>-0.020</td>\n",
       "      <td>-0.121</td>\n",
       "      <td>0.119</td>\n",
       "      <td>9.805</td>\n",
       "      <td>-0.001</td>\n",
       "      <td>0.009</td>\n",
       "      <td>0.749</td>\n",
       "      <td>0</td>\n",
       "    </tr>\n",
       "    <tr>\n",
       "      <th>1</th>\n",
       "      <td>0</td>\n",
       "      <td>0</td>\n",
       "      <td>10.32.114.115:50125</td>\n",
       "      <td>0.00956</td>\n",
       "      <td>-0.145</td>\n",
       "      <td>0.124</td>\n",
       "      <td>9.739</td>\n",
       "      <td>0.001</td>\n",
       "      <td>0.002</td>\n",
       "      <td>-0.000</td>\n",
       "      <td>...</td>\n",
       "      <td>-0.025</td>\n",
       "      <td>0.006</td>\n",
       "      <td>0.014</td>\n",
       "      <td>-0.121</td>\n",
       "      <td>0.119</td>\n",
       "      <td>9.805</td>\n",
       "      <td>-0.001</td>\n",
       "      <td>0.009</td>\n",
       "      <td>0.749</td>\n",
       "      <td>0</td>\n",
       "    </tr>\n",
       "    <tr>\n",
       "      <th>2</th>\n",
       "      <td>0</td>\n",
       "      <td>0</td>\n",
       "      <td>10.32.114.115:50125</td>\n",
       "      <td>0.01432</td>\n",
       "      <td>-0.111</td>\n",
       "      <td>0.128</td>\n",
       "      <td>9.727</td>\n",
       "      <td>0.001</td>\n",
       "      <td>-0.000</td>\n",
       "      <td>0.000</td>\n",
       "      <td>...</td>\n",
       "      <td>-0.025</td>\n",
       "      <td>0.006</td>\n",
       "      <td>0.014</td>\n",
       "      <td>-0.121</td>\n",
       "      <td>0.119</td>\n",
       "      <td>9.805</td>\n",
       "      <td>-0.001</td>\n",
       "      <td>0.009</td>\n",
       "      <td>0.749</td>\n",
       "      <td>0</td>\n",
       "    </tr>\n",
       "    <tr>\n",
       "      <th>3</th>\n",
       "      <td>0</td>\n",
       "      <td>0</td>\n",
       "      <td>10.32.114.115:50125</td>\n",
       "      <td>0.01908</td>\n",
       "      <td>-0.128</td>\n",
       "      <td>0.112</td>\n",
       "      <td>9.706</td>\n",
       "      <td>-0.001</td>\n",
       "      <td>0.001</td>\n",
       "      <td>0.000</td>\n",
       "      <td>...</td>\n",
       "      <td>0.009</td>\n",
       "      <td>0.010</td>\n",
       "      <td>0.002</td>\n",
       "      <td>-0.121</td>\n",
       "      <td>0.119</td>\n",
       "      <td>9.805</td>\n",
       "      <td>-0.001</td>\n",
       "      <td>0.009</td>\n",
       "      <td>0.749</td>\n",
       "      <td>0</td>\n",
       "    </tr>\n",
       "    <tr>\n",
       "      <th>4</th>\n",
       "      <td>0</td>\n",
       "      <td>0</td>\n",
       "      <td>10.32.114.115:50125</td>\n",
       "      <td>0.02385</td>\n",
       "      <td>-0.116</td>\n",
       "      <td>0.114</td>\n",
       "      <td>9.710</td>\n",
       "      <td>-0.001</td>\n",
       "      <td>0.001</td>\n",
       "      <td>0.000</td>\n",
       "      <td>...</td>\n",
       "      <td>0.004</td>\n",
       "      <td>-0.004</td>\n",
       "      <td>-0.015</td>\n",
       "      <td>-0.121</td>\n",
       "      <td>0.119</td>\n",
       "      <td>9.805</td>\n",
       "      <td>-0.001</td>\n",
       "      <td>0.009</td>\n",
       "      <td>0.749</td>\n",
       "      <td>0</td>\n",
       "    </tr>\n",
       "  </tbody>\n",
       "</table>\n",
       "<p>5 rows × 23 columns</p>\n",
       "</div>"
      ],
      "text/plain": [
       "   frame_id  depth_time                 addr     time  accel_x  accel_y  \\\n",
       "0         0           0  10.32.114.115:50125  0.00476   -0.090    0.131   \n",
       "1         0           0  10.32.114.115:50125  0.00956   -0.145    0.124   \n",
       "2         0           0  10.32.114.115:50125  0.01432   -0.111    0.128   \n",
       "3         0           0  10.32.114.115:50125  0.01908   -0.128    0.112   \n",
       "4         0           0  10.32.114.115:50125  0.02385   -0.116    0.114   \n",
       "\n",
       "   accel_z  gyro_x  gyro_y  gyro_z  ...    linear_accel_x  linear_accel_y  \\\n",
       "0    9.725   0.000   0.002   0.001  ...            -0.013          -0.011   \n",
       "1    9.739   0.001   0.002  -0.000  ...            -0.025           0.006   \n",
       "2    9.727   0.001  -0.000   0.000  ...            -0.025           0.006   \n",
       "3    9.706  -0.001   0.001   0.000  ...             0.009           0.010   \n",
       "4    9.710  -0.001   0.001   0.000  ...             0.004          -0.004   \n",
       "\n",
       "   linear_accel_z  gravity_x  gravity_y  gravity_z  rotation_x  rotation_y  \\\n",
       "0          -0.020     -0.121      0.119      9.805      -0.001       0.009   \n",
       "1           0.014     -0.121      0.119      9.805      -0.001       0.009   \n",
       "2           0.014     -0.121      0.119      9.805      -0.001       0.009   \n",
       "3           0.002     -0.121      0.119      9.805      -0.001       0.009   \n",
       "4          -0.015     -0.121      0.119      9.805      -0.001       0.009   \n",
       "\n",
       "   rotation_z  label  \n",
       "0       0.749      0  \n",
       "1       0.749      0  \n",
       "2       0.749      0  \n",
       "3       0.749      0  \n",
       "4       0.749      0  \n",
       "\n",
       "[5 rows x 23 columns]"
      ]
     },
     "execution_count": 5,
     "metadata": {},
     "output_type": "execute_result"
    }
   ],
   "source": [
    "sensor_data_41.head()"
   ]
  },
  {
   "cell_type": "code",
   "execution_count": 6,
   "metadata": {},
   "outputs": [
    {
     "data": {
      "text/plain": [
       "(array([0, 1, 2], dtype=int64), array([0, 1, 2], dtype=int64))"
      ]
     },
     "execution_count": 6,
     "metadata": {},
     "output_type": "execute_result"
    }
   ],
   "source": [
    "pd.unique(sensor_data_39[\"label\"]), pd.unique(sensor_data_41[\"label\"])"
   ]
  },
  {
   "cell_type": "code",
   "execution_count": 7,
   "metadata": {},
   "outputs": [],
   "source": [
    "def show_data_distribution(data):\n",
    "    labels = data[\"label\"].values\n",
    "    labels_count = np.bincount(labels)\n",
    "    print(\"rest\", labels_count[0])\n",
    "    print(\"inward\", labels_count[1])\n",
    "    print(\"outward\", labels_count[2])\n",
    "    print(\"all\", len(labels))"
   ]
  },
  {
   "cell_type": "code",
   "execution_count": 8,
   "metadata": {},
   "outputs": [
    {
     "name": "stdout",
     "output_type": "stream",
     "text": [
      "rest 33957\n",
      "inward 15136\n",
      "outward 16260\n",
      "all 65353\n"
     ]
    }
   ],
   "source": [
    "show_data_distribution(sensor_data_39)"
   ]
  },
  {
   "cell_type": "code",
   "execution_count": 9,
   "metadata": {},
   "outputs": [
    {
     "name": "stdout",
     "output_type": "stream",
     "text": [
      "rest 29175\n",
      "inward 15846\n",
      "outward 18367\n",
      "all 63388\n"
     ]
    }
   ],
   "source": [
    "show_data_distribution(sensor_data_41)"
   ]
  },
  {
   "cell_type": "code",
   "execution_count": 44,
   "metadata": {},
   "outputs": [],
   "source": [
    "def make_sliding_window(data, frame_size, step_size):\n",
    "    \n",
    "    frames = []\n",
    "\n",
    "    start_index = 0\n",
    "\n",
    "    while start_index + frame_size < len(data):\n",
    "        frame_data = data.iloc[start_index:start_index+frame_size]\n",
    "        frames.append(frame_data)\n",
    "        start_index += step_size\n",
    "            \n",
    "    return frames"
   ]
  },
  {
   "cell_type": "code",
   "execution_count": 45,
   "metadata": {},
   "outputs": [],
   "source": [
    "# @ 200 Hz\n",
    "frame_size = 20\n",
    "step_size = 20\n",
    "window_size = 200"
   ]
  },
  {
   "cell_type": "code",
   "execution_count": 46,
   "metadata": {},
   "outputs": [],
   "source": [
    "sensor_data_39_frames = make_sliding_window(sensor_data_39, frame_size, step_size)"
   ]
  },
  {
   "cell_type": "code",
   "execution_count": 47,
   "metadata": {},
   "outputs": [],
   "source": [
    "sensor_data_41_frames = make_sliding_window(sensor_data_41, frame_size, step_size)"
   ]
  },
  {
   "cell_type": "code",
   "execution_count": 48,
   "metadata": {},
   "outputs": [
    {
     "data": {
      "text/plain": [
       "3267"
      ]
     },
     "execution_count": 48,
     "metadata": {},
     "output_type": "execute_result"
    }
   ],
   "source": [
    "len(sensor_data_39_frames)"
   ]
  },
  {
   "cell_type": "code",
   "execution_count": 49,
   "metadata": {},
   "outputs": [
    {
     "data": {
      "text/plain": [
       "3169"
      ]
     },
     "execution_count": 49,
     "metadata": {},
     "output_type": "execute_result"
    }
   ],
   "source": [
    "len(sensor_data_41_frames)"
   ]
  },
  {
   "cell_type": "code",
   "execution_count": 16,
   "metadata": {},
   "outputs": [],
   "source": [
    "features_length = 7 + 10 + 10 + 5"
   ]
  },
  {
   "cell_type": "code",
   "execution_count": 17,
   "metadata": {},
   "outputs": [],
   "source": [
    "columns_X_fft = list(range(features_length))\n",
    "columns_y_fft = [\"label\"]"
   ]
  },
  {
   "cell_type": "code",
   "execution_count": 18,
   "metadata": {},
   "outputs": [],
   "source": [
    "columns_fft = copy.copy(columns_X_fft)\n",
    "columns_fft.extend(columns_y_fft)"
   ]
  },
  {
   "cell_type": "code",
   "execution_count": 19,
   "metadata": {},
   "outputs": [],
   "source": [
    "def compute_features(data_frames, frame_size, window_size):\n",
    "    \n",
    "    features_df = pd.DataFrame(columns=columns_fft)\n",
    "    \n",
    "    start_index = 0\n",
    "    frames_in_window = int(window_size / frame_size)\n",
    "    S_t_0 = None\n",
    "    \n",
    "    while start_index <= len(data_frames)-1-frames_in_window:\n",
    "        print(\".\", end='')\n",
    "\n",
    "        S_t_1_frames = data_frames[start_index:start_index+frames_in_window]\n",
    "        S_t_1_spectra = []\n",
    "        S_t_1_labels = []\n",
    "        \n",
    "        for frame in S_t_1_frames:\n",
    "            F_x = np.abs(np.fft.rfft(frame[\"linear_accel_x\"]))\n",
    "\n",
    "            hamming = np.hamming(len(F_x))\n",
    "\n",
    "            F_x = F_x * hamming\n",
    "            F_x = F_x[1:]\n",
    "\n",
    "            F_y = np.abs(np.fft.rfft(frame[\"linear_accel_y\"]))\n",
    "            F_y = F_y * hamming\n",
    "            F_y = F_y[1:]\n",
    "\n",
    "            F_z = np.abs(np.fft.rfft(frame[\"linear_accel_z\"]))\n",
    "            F_z = F_z * hamming\n",
    "            F_z = F_z[1:]\n",
    "\n",
    "            F_i = np.array([max(x_i, y_i, z_i) for x_i, y_i, z_i in zip(F_x, F_y, F_z)])\n",
    "            S_t_1_spectra.append(F_i)\n",
    "            S_t_1_labels.extend(frame[\"label\"])\n",
    "        \n",
    "        S_t_1 = np.mean(S_t_1_spectra, axis=0)\n",
    "        \n",
    "        # compute features\n",
    "        if S_t_0 is not None:\n",
    "            ft_mean = np.mean(S_t_1)\n",
    "            ft_median = np.median(S_t_1)\n",
    "            ft_std = np.std(S_t_1)\n",
    "            ft_sum = np.sum(S_t_1)\n",
    "            ft_min = np.min(S_t_1)\n",
    "            ft_max = np.max(S_t_1)\n",
    "            ft_range = ft_max - ft_max\n",
    "            ft_der = S_t_1 - S_t_0\n",
    "            ft_ratios = S_t_1 / S_t_0\n",
    "            ft_peaks = -np.partition(-S_t_1, 5)[:5]\n",
    "\n",
    "            label = stats.mode(S_t_1_labels).mode[0]\n",
    "\n",
    "            ft_extended = [ft_mean, ft_median, ft_std, ft_sum, ft_min, ft_max, ft_range]\n",
    "            ft_extended.extend(ft_der)\n",
    "            ft_extended.extend(ft_ratios)\n",
    "            ft_extended.extend(ft_peaks)\n",
    "            ft_extended.append(label)\n",
    "\n",
    "            ft_data = pd.DataFrame(data=[ft_extended], columns=columns_fft)\n",
    "            features_df = features_df.append(ft_data, ignore_index=True)\n",
    "        \n",
    "        S_t_0 = copy.copy(S_t_1)\n",
    "        start_index += 1\n",
    "        \n",
    "    return features_df"
   ]
  },
  {
   "cell_type": "code",
   "execution_count": 20,
   "metadata": {},
   "outputs": [
    {
     "name": "stdout",
     "output_type": "stream",
     "text": [
      "........................................................................................................................................................................................................................................................................................................................................................................................................................................................................................................................................................................................................................................................................................................................................................................................................................................................................................................................................................................................................................................................................................................................................................................................................................................................................................................................................................................................................................................................................................................................................................................................................................................................................................................................................................................................................................................................................................................................................................................................................................................................................................................................................................................................................................................................................................................................................................................................................................................................................................................................................................................................................................................................................................................................................................................................................................................................................................................................................................................................................................................................................................................................................................................................................................................................................................................................................................................................."
     ]
    }
   ],
   "source": [
    "sensor_data_39_df = compute_features(sensor_data_39_frames, frame_size, window_size)"
   ]
  },
  {
   "cell_type": "code",
   "execution_count": 21,
   "metadata": {},
   "outputs": [
    {
     "name": "stdout",
     "output_type": "stream",
     "text": [
      "......................................................................................................................................................................................................................................................................................................................................................................................................................................................................................................................................................................................................................................................................................................................................................................................................................................................................................................................................................................................................................................................................................................................................................................................................................................................................................................................................................................................................................................................................................................................................................................................................................................................................................................................................................................................................................................................................................................................................................................................................................................................................................................................................................................................................................................................................................................................................................................................................................................................................................................................................................................................................................................................................................................................................................................................................................................................................................................................................................................................................................................................................................................................................................................................................................................................................................."
     ]
    }
   ],
   "source": [
    "sensor_data_41_df = compute_features(sensor_data_41_frames, frame_size, window_size)"
   ]
  },
  {
   "cell_type": "code",
   "execution_count": 22,
   "metadata": {},
   "outputs": [
    {
     "data": {
      "text/plain": [
       "(3256, 3158)"
      ]
     },
     "execution_count": 22,
     "metadata": {},
     "output_type": "execute_result"
    }
   ],
   "source": [
    "len(sensor_data_39_df), len(sensor_data_41_df)"
   ]
  },
  {
   "cell_type": "code",
   "execution_count": 23,
   "metadata": {},
   "outputs": [],
   "source": [
    "sensor_data_fft = pd.DataFrame(columns=columns_fft)"
   ]
  },
  {
   "cell_type": "code",
   "execution_count": 24,
   "metadata": {},
   "outputs": [],
   "source": [
    "sensor_data_fft = sensor_data_fft.append(sensor_data_39_df, ignore_index=True)"
   ]
  },
  {
   "cell_type": "code",
   "execution_count": 25,
   "metadata": {},
   "outputs": [],
   "source": [
    "sensor_data_fft = sensor_data_fft.append(sensor_data_41_df, ignore_index=True)"
   ]
  },
  {
   "cell_type": "code",
   "execution_count": 26,
   "metadata": {},
   "outputs": [],
   "source": [
    "sensor_data_fft[\"label\"] = sensor_data_fft[\"label\"].astype(int)"
   ]
  },
  {
   "cell_type": "code",
   "execution_count": 27,
   "metadata": {},
   "outputs": [
    {
     "data": {
      "text/html": [
       "<div>\n",
       "<style>\n",
       "    .dataframe thead tr:only-child th {\n",
       "        text-align: right;\n",
       "    }\n",
       "\n",
       "    .dataframe thead th {\n",
       "        text-align: left;\n",
       "    }\n",
       "\n",
       "    .dataframe tbody tr th {\n",
       "        vertical-align: top;\n",
       "    }\n",
       "</style>\n",
       "<table border=\"1\" class=\"dataframe\">\n",
       "  <thead>\n",
       "    <tr style=\"text-align: right;\">\n",
       "      <th></th>\n",
       "      <th>0</th>\n",
       "      <th>1</th>\n",
       "      <th>2</th>\n",
       "      <th>3</th>\n",
       "      <th>4</th>\n",
       "      <th>5</th>\n",
       "      <th>6</th>\n",
       "      <th>7</th>\n",
       "      <th>8</th>\n",
       "      <th>9</th>\n",
       "      <th>...</th>\n",
       "      <th>23</th>\n",
       "      <th>24</th>\n",
       "      <th>25</th>\n",
       "      <th>26</th>\n",
       "      <th>27</th>\n",
       "      <th>28</th>\n",
       "      <th>29</th>\n",
       "      <th>30</th>\n",
       "      <th>31</th>\n",
       "      <th>label</th>\n",
       "    </tr>\n",
       "  </thead>\n",
       "  <tbody>\n",
       "    <tr>\n",
       "      <th>0</th>\n",
       "      <td>0.032044</td>\n",
       "      <td>0.030940</td>\n",
       "      <td>0.019976</td>\n",
       "      <td>0.320441</td>\n",
       "      <td>0.002456</td>\n",
       "      <td>0.061253</td>\n",
       "      <td>0.0</td>\n",
       "      <td>0.001581</td>\n",
       "      <td>0.003818</td>\n",
       "      <td>0.003229</td>\n",
       "      <td>...</td>\n",
       "      <td>1.108855</td>\n",
       "      <td>1.147565</td>\n",
       "      <td>1.102031</td>\n",
       "      <td>1.077193</td>\n",
       "      <td>0.057924</td>\n",
       "      <td>0.049836</td>\n",
       "      <td>0.045914</td>\n",
       "      <td>0.061253</td>\n",
       "      <td>0.031143</td>\n",
       "      <td>0</td>\n",
       "    </tr>\n",
       "    <tr>\n",
       "      <th>1</th>\n",
       "      <td>0.035860</td>\n",
       "      <td>0.033701</td>\n",
       "      <td>0.022792</td>\n",
       "      <td>0.358605</td>\n",
       "      <td>0.002800</td>\n",
       "      <td>0.070988</td>\n",
       "      <td>0.0</td>\n",
       "      <td>0.001487</td>\n",
       "      <td>0.003204</td>\n",
       "      <td>0.006263</td>\n",
       "      <td>...</td>\n",
       "      <td>1.075409</td>\n",
       "      <td>1.091509</td>\n",
       "      <td>1.065638</td>\n",
       "      <td>1.140065</td>\n",
       "      <td>0.060799</td>\n",
       "      <td>0.059627</td>\n",
       "      <td>0.052178</td>\n",
       "      <td>0.070988</td>\n",
       "      <td>0.034347</td>\n",
       "      <td>0</td>\n",
       "    </tr>\n",
       "    <tr>\n",
       "      <th>2</th>\n",
       "      <td>0.034839</td>\n",
       "      <td>0.032546</td>\n",
       "      <td>0.022232</td>\n",
       "      <td>0.348393</td>\n",
       "      <td>0.002784</td>\n",
       "      <td>0.068309</td>\n",
       "      <td>0.0</td>\n",
       "      <td>-0.001735</td>\n",
       "      <td>-0.002261</td>\n",
       "      <td>-0.002420</td>\n",
       "      <td>...</td>\n",
       "      <td>0.998523</td>\n",
       "      <td>0.990679</td>\n",
       "      <td>1.041660</td>\n",
       "      <td>0.994286</td>\n",
       "      <td>0.059291</td>\n",
       "      <td>0.059966</td>\n",
       "      <td>0.049757</td>\n",
       "      <td>0.068309</td>\n",
       "      <td>0.033006</td>\n",
       "      <td>0</td>\n",
       "    </tr>\n",
       "    <tr>\n",
       "      <th>3</th>\n",
       "      <td>0.036007</td>\n",
       "      <td>0.034200</td>\n",
       "      <td>0.023521</td>\n",
       "      <td>0.360069</td>\n",
       "      <td>0.003136</td>\n",
       "      <td>0.075814</td>\n",
       "      <td>0.0</td>\n",
       "      <td>-0.002120</td>\n",
       "      <td>0.001195</td>\n",
       "      <td>0.000832</td>\n",
       "      <td>...</td>\n",
       "      <td>1.063998</td>\n",
       "      <td>1.067745</td>\n",
       "      <td>1.024873</td>\n",
       "      <td>1.126437</td>\n",
       "      <td>0.059594</td>\n",
       "      <td>0.059915</td>\n",
       "      <td>0.050590</td>\n",
       "      <td>0.075814</td>\n",
       "      <td>0.035118</td>\n",
       "      <td>0</td>\n",
       "    </tr>\n",
       "    <tr>\n",
       "      <th>4</th>\n",
       "      <td>0.036533</td>\n",
       "      <td>0.033660</td>\n",
       "      <td>0.023898</td>\n",
       "      <td>0.365325</td>\n",
       "      <td>0.003352</td>\n",
       "      <td>0.074315</td>\n",
       "      <td>0.0</td>\n",
       "      <td>0.000968</td>\n",
       "      <td>-0.000392</td>\n",
       "      <td>0.003307</td>\n",
       "      <td>...</td>\n",
       "      <td>0.980423</td>\n",
       "      <td>0.969713</td>\n",
       "      <td>0.989580</td>\n",
       "      <td>1.068878</td>\n",
       "      <td>0.058767</td>\n",
       "      <td>0.064815</td>\n",
       "      <td>0.053896</td>\n",
       "      <td>0.074315</td>\n",
       "      <td>0.034431</td>\n",
       "      <td>0</td>\n",
       "    </tr>\n",
       "  </tbody>\n",
       "</table>\n",
       "<p>5 rows × 33 columns</p>\n",
       "</div>"
      ],
      "text/plain": [
       "          0         1         2         3         4         5    6         7  \\\n",
       "0  0.032044  0.030940  0.019976  0.320441  0.002456  0.061253  0.0  0.001581   \n",
       "1  0.035860  0.033701  0.022792  0.358605  0.002800  0.070988  0.0  0.001487   \n",
       "2  0.034839  0.032546  0.022232  0.348393  0.002784  0.068309  0.0 -0.001735   \n",
       "3  0.036007  0.034200  0.023521  0.360069  0.003136  0.075814  0.0 -0.002120   \n",
       "4  0.036533  0.033660  0.023898  0.365325  0.003352  0.074315  0.0  0.000968   \n",
       "\n",
       "          8         9  ...          23        24        25        26  \\\n",
       "0  0.003818  0.003229  ...    1.108855  1.147565  1.102031  1.077193   \n",
       "1  0.003204  0.006263  ...    1.075409  1.091509  1.065638  1.140065   \n",
       "2 -0.002261 -0.002420  ...    0.998523  0.990679  1.041660  0.994286   \n",
       "3  0.001195  0.000832  ...    1.063998  1.067745  1.024873  1.126437   \n",
       "4 -0.000392  0.003307  ...    0.980423  0.969713  0.989580  1.068878   \n",
       "\n",
       "         27        28        29        30        31  label  \n",
       "0  0.057924  0.049836  0.045914  0.061253  0.031143      0  \n",
       "1  0.060799  0.059627  0.052178  0.070988  0.034347      0  \n",
       "2  0.059291  0.059966  0.049757  0.068309  0.033006      0  \n",
       "3  0.059594  0.059915  0.050590  0.075814  0.035118      0  \n",
       "4  0.058767  0.064815  0.053896  0.074315  0.034431      0  \n",
       "\n",
       "[5 rows x 33 columns]"
      ]
     },
     "execution_count": 27,
     "metadata": {},
     "output_type": "execute_result"
    }
   ],
   "source": [
    "sensor_data_fft.head()"
   ]
  },
  {
   "cell_type": "code",
   "execution_count": 28,
   "metadata": {},
   "outputs": [
    {
     "data": {
      "text/plain": [
       "(6414, 33)"
      ]
     },
     "execution_count": 28,
     "metadata": {},
     "output_type": "execute_result"
    }
   ],
   "source": [
    "sensor_data_fft.shape"
   ]
  },
  {
   "cell_type": "code",
   "execution_count": 29,
   "metadata": {},
   "outputs": [
    {
     "name": "stdout",
     "output_type": "stream",
     "text": [
      "rest 3116\n",
      "inward 1563\n",
      "outward 1735\n",
      "all 6414\n"
     ]
    }
   ],
   "source": [
    "show_data_distribution(sensor_data_fft)"
   ]
  },
  {
   "cell_type": "code",
   "execution_count": null,
   "metadata": {},
   "outputs": [],
   "source": []
  },
  {
   "cell_type": "code",
   "execution_count": 30,
   "metadata": {},
   "outputs": [],
   "source": [
    "X_fft = sensor_data_fft[columns_X_fft]\n",
    "y_fft = sensor_data_fft[columns_y_fft]"
   ]
  },
  {
   "cell_type": "code",
   "execution_count": 31,
   "metadata": {},
   "outputs": [],
   "source": [
    "X = X_fft.values\n",
    "y = y_fft[\"label\"].values"
   ]
  },
  {
   "cell_type": "code",
   "execution_count": 32,
   "metadata": {},
   "outputs": [],
   "source": [
    "X_train, X_test, y_train, y_test = train_test_split(X, y, test_size=0.3, stratify=y, random_state=0)"
   ]
  },
  {
   "cell_type": "code",
   "execution_count": 33,
   "metadata": {},
   "outputs": [
    {
     "data": {
      "text/plain": [
       "((4489, 32), (4489,))"
      ]
     },
     "execution_count": 33,
     "metadata": {},
     "output_type": "execute_result"
    }
   ],
   "source": [
    "X_train.shape, y_train.shape"
   ]
  },
  {
   "cell_type": "code",
   "execution_count": 34,
   "metadata": {},
   "outputs": [
    {
     "data": {
      "text/plain": [
       "((1925, 32), (1925,))"
      ]
     },
     "execution_count": 34,
     "metadata": {},
     "output_type": "execute_result"
    }
   ],
   "source": [
    "X_test.shape, y_test.shape"
   ]
  },
  {
   "cell_type": "code",
   "execution_count": null,
   "metadata": {},
   "outputs": [],
   "source": []
  },
  {
   "cell_type": "code",
   "execution_count": 35,
   "metadata": {},
   "outputs": [],
   "source": [
    "with open(\"sensor-3041-fft-X.pkl\", \"wb\") as fid:\n",
    "    pickle.dump(X, fid)\n",
    "\n",
    "with open(\"sensor-3041-fft-y.pkl\", \"wb\") as fid:\n",
    "    pickle.dump(y, fid)"
   ]
  },
  {
   "cell_type": "code",
   "execution_count": null,
   "metadata": {},
   "outputs": [],
   "source": []
  },
  {
   "cell_type": "code",
   "execution_count": 36,
   "metadata": {},
   "outputs": [],
   "source": [
    "stratified_shuffle_split = StratifiedShuffleSplit(n_splits=10, random_state=0)"
   ]
  },
  {
   "cell_type": "code",
   "execution_count": 37,
   "metadata": {},
   "outputs": [],
   "source": [
    "fft_svm = svm.SVC(kernel=\"poly\", degree=3, class_weight=\"balanced\", random_state=42, verbose=True)"
   ]
  },
  {
   "cell_type": "code",
   "execution_count": 146,
   "metadata": {},
   "outputs": [
    {
     "name": "stdout",
     "output_type": "stream",
     "text": [
      "[LibSVM]"
     ]
    },
    {
     "data": {
      "text/plain": [
       "SVC(C=1.0, cache_size=200, class_weight='balanced', coef0=0.0,\n",
       "  decision_function_shape='ovr', degree=3, gamma='auto', kernel='poly',\n",
       "  max_iter=-1, probability=False, random_state=42, shrinking=True,\n",
       "  tol=0.001, verbose=True)"
      ]
     },
     "execution_count": 146,
     "metadata": {},
     "output_type": "execute_result"
    }
   ],
   "source": [
    "fft_svm.fit(X_train, y_train)"
   ]
  },
  {
   "cell_type": "code",
   "execution_count": 38,
   "metadata": {},
   "outputs": [
    {
     "data": {
      "text/plain": [
       "<matplotlib.legend.Legend at 0x1d358455eb8>"
      ]
     },
     "execution_count": 38,
     "metadata": {},
     "output_type": "execute_result"
    },
    {
     "data": {
      "image/png": "[encoded data removed]",
      "text/plain": [
       "<matplotlib.figure.Figure at 0x1d35b6a13c8>"
      ]
     },
     "metadata": {},
     "output_type": "display_data"
    }
   ],
   "source": [
    "plt.figure()\n",
    "plt.title(\"SVM\")\n",
    "plt.xlabel(\"Training examples\")\n",
    "plt.ylabel(\"Score\")\n",
    "\n",
    "train_sizes, train_scores, test_scores = learning_curve(fft_svm, X, y, cv=stratified_shuffle_split, n_jobs=4, train_sizes=np.linspace(.1, 1.0, 5))\n",
    "train_scores_mean = np.mean(train_scores, axis=1)\n",
    "train_scores_std = np.std(train_scores, axis=1)\n",
    "test_scores_mean = np.mean(test_scores, axis=1)\n",
    "test_scores_std = np.std(test_scores, axis=1)\n",
    "\n",
    "plt.grid()\n",
    "plt.fill_between(train_sizes, train_scores_mean - train_scores_std,\n",
    "                 train_scores_mean + train_scores_std, alpha=0.1,\n",
    "                 color=\"r\")\n",
    "plt.fill_between(train_sizes, test_scores_mean - test_scores_std,\n",
    "                 test_scores_mean + test_scores_std, alpha=0.1, color=\"g\")\n",
    "plt.plot(train_sizes, train_scores_mean, 'o-', color=\"r\",\n",
    "         label=\"Training score\")\n",
    "plt.plot(train_sizes, test_scores_mean, 'o-', color=\"g\",\n",
    "         label=\"Cross-validation score\")\n",
    "plt.legend(loc=\"best\")"
   ]
  },
  {
   "cell_type": "code",
   "execution_count": 108,
   "metadata": {},
   "outputs": [],
   "source": [
    "fft_random_forest = RandomForestClassifier(n_estimators=100, criterion=\"gini\", max_depth=None, class_weight=\"balanced\", n_jobs=-1, random_state=42)"
   ]
  },
  {
   "cell_type": "code",
   "execution_count": 109,
   "metadata": {},
   "outputs": [
    {
     "data": {
      "text/plain": [
       "RandomForestClassifier(bootstrap=True, class_weight='balanced',\n",
       "            criterion='gini', max_depth=None, max_features='auto',\n",
       "            max_leaf_nodes=None, min_impurity_decrease=0.0,\n",
       "            min_impurity_split=None, min_samples_leaf=1,\n",
       "            min_samples_split=2, min_weight_fraction_leaf=0.0,\n",
       "            n_estimators=100, n_jobs=-1, oob_score=False, random_state=42,\n",
       "            verbose=0, warm_start=False)"
      ]
     },
     "execution_count": 109,
     "metadata": {},
     "output_type": "execute_result"
    }
   ],
   "source": [
    "fft_random_forest.fit(X_train, y_train)"
   ]
  },
  {
   "cell_type": "code",
   "execution_count": 103,
   "metadata": {},
   "outputs": [],
   "source": [
    "fft_gradient_boosting = GradientBoostingClassifier(loss=\"deviance\", learning_rate=0.1, n_estimators=100, max_depth=6, subsample=0.5, max_features=\"auto\", criterion=\"friedman_mse\")"
   ]
  },
  {
   "cell_type": "code",
   "execution_count": 104,
   "metadata": {},
   "outputs": [
    {
     "data": {
      "text/plain": [
       "GradientBoostingClassifier(criterion='friedman_mse', init=None,\n",
       "              learning_rate=0.1, loss='deviance', max_depth=6,\n",
       "              max_features='auto', max_leaf_nodes=None,\n",
       "              min_impurity_decrease=0.0, min_impurity_split=None,\n",
       "              min_samples_leaf=1, min_samples_split=2,\n",
       "              min_weight_fraction_leaf=0.0, n_estimators=100,\n",
       "              presort='auto', random_state=None, subsample=0.5, verbose=0,\n",
       "              warm_start=False)"
      ]
     },
     "execution_count": 104,
     "metadata": {},
     "output_type": "execute_result"
    }
   ],
   "source": [
    "fft_gradient_boosting.fit(X_train, y_train)"
   ]
  },
  {
   "cell_type": "code",
   "execution_count": 107,
   "metadata": {},
   "outputs": [],
   "source": [
    "y_true = list(y_test)"
   ]
  },
  {
   "cell_type": "code",
   "execution_count": 147,
   "metadata": {},
   "outputs": [],
   "source": [
    "y_pred = fft_svm.predict(X_test)"
   ]
  },
  {
   "cell_type": "code",
   "execution_count": 148,
   "metadata": {},
   "outputs": [],
   "source": [
    "accuracy = accuracy_score(y_true, y_pred)\n",
    "f1 = f1_score(y_true, y_pred, average=\"weighted\")\n",
    "precision = precision_score(y_true, y_pred, average=\"weighted\")\n",
    "recall = recall_score(y_true, y_pred, average=\"weighted\")"
   ]
  },
  {
   "cell_type": "code",
   "execution_count": 149,
   "metadata": {},
   "outputs": [
    {
     "name": "stdout",
     "output_type": "stream",
     "text": [
      "acc: 0.73\n",
      "f1: 0.73\n",
      "precision: 0.75\n",
      "recall: 0.73\n"
     ]
    }
   ],
   "source": [
    "print(\"acc: %.2f\" % accuracy)\n",
    "print(\"f1: %.2f\" % f1)\n",
    "print(\"precision: %.2f\" % precision)\n",
    "print(\"recall: %.2f\" % recall)"
   ]
  },
  {
   "cell_type": "code",
   "execution_count": null,
   "metadata": {},
   "outputs": [],
   "source": []
  },
  {
   "cell_type": "code",
   "execution_count": 272,
   "metadata": {},
   "outputs": [
    {
     "name": "stdout",
     "output_type": "stream",
     "text": [
      "[LibSVM]"
     ]
    },
    {
     "data": {
      "text/plain": [
       "SVC(C=1.0, cache_size=200, class_weight='balanced', coef0=0.0,\n",
       "  decision_function_shape='ovr', degree=1, gamma='auto', kernel='poly',\n",
       "  max_iter=-1, probability=False, random_state=42, shrinking=True,\n",
       "  tol=0.001, verbose=True)"
      ]
     },
     "execution_count": 272,
     "metadata": {},
     "output_type": "execute_result"
    }
   ],
   "source": [
    "# ALL DATA\n",
    "fft_svm.fit(X, y)"
   ]
  },
  {
   "cell_type": "code",
   "execution_count": 278,
   "metadata": {},
   "outputs": [],
   "source": [
    "# save the classifier\n",
    "with open(\"3-gesture-fft-svm.pkl\", \"wb\") as fid:\n",
    "    pickle.dump(fft_svm, fid)"
   ]
  },
  {
   "cell_type": "code",
   "execution_count": 279,
   "metadata": {},
   "outputs": [],
   "source": [
    "# load it again\n",
    "with open(\"3-gesture-fft-svm.pkl\", \"rb\") as fid:\n",
    "    fft_svm = pickle.load(fid)"
   ]
  },
  {
   "cell_type": "code",
   "execution_count": 280,
   "metadata": {},
   "outputs": [],
   "source": [
    "y_pred = fft_svm.predict(X_test)"
   ]
  },
  {
   "cell_type": "code",
   "execution_count": 281,
   "metadata": {},
   "outputs": [],
   "source": [
    "accuracy = accuracy_score(y_true, y_pred)"
   ]
  },
  {
   "cell_type": "code",
   "execution_count": 282,
   "metadata": {},
   "outputs": [
    {
     "data": {
      "text/plain": [
       "1.0"
      ]
     },
     "execution_count": 282,
     "metadata": {},
     "output_type": "execute_result"
    }
   ],
   "source": [
    "accuracy"
   ]
  }
 ],
 "metadata": {
  "kernelspec": {
   "display_name": "Python 3",
   "language": "python",
   "name": "python3"
  },
  "language_info": {
   "codemirror_mode": {
    "name": "ipython",
    "version": 3
   },
   "file_extension": ".py",
   "mimetype": "text/x-python",
   "name": "python",
   "nbconvert_exporter": "python",
   "pygments_lexer": "ipython3",
   "version": "3.6.3"
  }
 },
 "nbformat": 4,
 "nbformat_minor": 2
}
